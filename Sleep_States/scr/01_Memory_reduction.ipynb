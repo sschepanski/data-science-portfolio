{
 "cells": [
  {
   "cell_type": "markdown",
   "metadata": {},
   "source": [
    "# Sleep Event Detection Project"
   ]
  },
  {
   "cell_type": "markdown",
   "metadata": {},
   "source": [
    "<!-- TOC -->\n",
    "- [Introduction](#introduction)\n",
    "- [Objective](#objective)\n",
    "  - [Hypotheses](#hypotheses)\n",
    "  - [Analysis](#analysis)\n",
    "  - [Data Annotation Guidelines](#data-annotation-guidelines)\n",
    "  - [Dataset Overview](#dataset-overview)\n",
    "  - [Feature Dictionary](#feature-dictionary)\n",
    "  - [Acknowledgments](#acknowledgements)\n",
    "  - [Data Availability](#data-availability)\n",
    "- [Memory reduction](#memory-reduction)\n",
    "- [Data Exploration](#data-exploration)\n",
    "  - [Data resampling](#resampling-data-to-1-minute-intervals)\n",
    "  - [Summary](#data-exploration-summary)\n"
   ]
  },
  {
   "cell_type": "markdown",
   "metadata": {},
   "source": [
    "# Introduction\n",
    "\n",
    "This project focuses on developing a model for sleep event detection using wrist-worn accelerometer data. The goal is to accurately identify sleep onset and wake periods, enabling researchers to conduct large-scale sleep studies and gaining insights into the relationship between sleep, mood, and behavior.\n",
    "\n",
    "# Objective\n",
    "\n",
    "The primary objective is to create a model that can analyze accelerometer data and detect sleep events, specifically onset and wake, with high precision. This model has potential applications in improving sleep studies, especially for children with mood and behavior difficulties.\n",
    "\n",
    "## Hypotheses\n",
    "\n",
    "1. Occurrences of NaNs in the train_event.csv file align with periods when the wristband was not worn.\n",
    "2. Investigate the distinctions between complete and incomplete event labels.\n",
    "3. There are periods of duplicate data in the series data for some series.\n",
    "4. Daylight Saving Time/local vs. UTC has minimal to no discernible effect on the data.\n",
    "5. There exist consistent hours/times when children initiate sleep and wake up.\n",
    "6. Sleep duration patterns exhibit similarity across different participants.\n",
    "7. Euclidean Norm Minus One (ENMO) and anglez can reliably determine the difference between sleep and awake phases.\n",
    "\n",
    "## Analysis\n",
    "\n",
    "1. **Data Exploration:** Understand the dataset's structure, explore variable distributions, and identify potential patterns or outliers.\n",
    "2. **Data Preprocessing:** Clean the data, handle missing values, and prepare it for modeling.\n",
    "3. **Exploratory Data Analysis (EDA):** Tackle the hypotheses by visually examining relationships between variables, extracting meaningful insights and patterns.\n",
    "4. **Conlusion:** Conclusively, the dataset exploration has revealed key patterns and outliers, guiding our understanding of the data and providing a foundation for informed model development.\n",
    "\n",
    "## Data Annotation Guidelines\n",
    "\n",
    "- Sleep events are defined as onset (beginning of sleep) and wake (end of sleep).\n",
    "- Each sleep period must be at least 30 minutes in length.\n",
    "- Sleep periods can be interrupted by short bouts of activity (not exceeding 30 consecutive minutes).\n",
    "- No sleep windows can be detected unless the wrist-worn device is deemed to be worn for the duration.\n",
    "- Only the longest sleep window during the night is recorded.\n",
    "- No more than one window should be assigned per night.\n",
    "\n",
    "## Dataset Overview\n",
    "\n",
    "The dataset includes:\n",
    "\n",
    "- **train_series.parquet:** Training data with accelerometer recordings for multiple subjects.\n",
    "- **test_series.parquet:** Test data for predicting sleep events.\n",
    "- **train_events.csv:** Sleep logs for training series, recording onset and wake events.\n",
    "\n",
    "## Feature Dictionary\n",
    "\n",
    "| Feature   | Description                                             |\n",
    "|-----------|---------------------------------------------------------|\n",
    "| series_id | Unique identifier for each accelerometer series.        |\n",
    "| step      | Integer timestep for each observation within a series.  |\n",
    "| timestamp | Datetime with ISO 8601 format.                          |\n",
    "| anglez    | Angle of the arm relative to the vertical axis.         |\n",
    "| enmo      | Euclidean Norm Minus One of all accelerometer signals. |\n",
    "\n",
    "## Acknowledgements\n",
    "\n",
    "This Code Competition is in collaboration with the Child Mind Institute, aiming to advance research in children's mental health. The dataset, provided by the Healthy Brain Network, supports the goal of improving sleep studies and understanding the impact of sleep on mental health. The competition is made possible by the Stavros Niarchos Foundation (SNF) Global Center for Child and Adolescent Mental Health.\n",
    "\n",
    "## Data Availability\n",
    "\n",
    "The dataset and competition details are available on [Kaggle](https://www.kaggle.com/competitions/child-mind-institute-detect-sleep-states/overview)."
   ]
  },
  {
   "cell_type": "code",
   "execution_count": 20,
   "metadata": {},
   "outputs": [],
   "source": [
    "# importing libraries\n",
    "import numpy as np # linear algebra\n",
    "import pandas as pd # data processing, CSV file I/O (e.g. pd.read_csv)\n",
    "import polars as pl\n",
    "import matplotlib.pyplot as plt\n",
    "import pyarrow.parquet as pq\n",
    "import seaborn as sns\n",
    "import missingno as msno\n",
    "from pandas.api.types import is_datetime64_ns_dtype\n",
    "import gc  # garbage collector module\n",
    "\n",
    "import plotly.graph_objects as go\n",
    "from plotly.subplots import make_subplots\n",
    "import plotly.express as px\n",
    "import plotly.offline\n",
    "import pyarrow.parquet as pq\n",
    "\n",
    "import kaleido\n",
    "import os\n",
    "from IPython.display import Image, display\n",
    "\n",
    "from plots import plot_series_with_events\n",
    "\n",
    "import warnings\n",
    "warnings.filterwarnings(\"ignore\")  # ignore any warnings in the code execution"
   ]
  },
  {
   "cell_type": "markdown",
   "metadata": {},
   "source": [
    "# Memory reduction"
   ]
  },
  {
   "cell_type": "code",
   "execution_count": 23,
   "metadata": {},
   "outputs": [],
   "source": [
    "# define the common path\n",
    "# change this to your local path\n",
    "path = 'gs://sleep-nov2023/data/'"
   ]
  },
  {
   "cell_type": "code",
   "execution_count": 24,
   "metadata": {},
   "outputs": [
    {
     "name": "stdout",
     "output_type": "stream",
     "text": [
      "CPU times: user 1min 4s, sys: 15.6 s, total: 1min 19s\n",
      "Wall time: 53.1 s\n"
     ]
    }
   ],
   "source": [
    "%%time\n",
    "\n",
    "# Read data from the specified parquet file, parse the timestamp column to datetime, and convert to pandas DataFrame\n",
    "train_series = (\n",
    "    pl.scan_parquet(path + 'original_data/train_series.parquet')  # Read data from the parquet file\n",
    "    .with_columns(\n",
    "        (\n",
    "            (pl.col(\"timestamp\").str.strptime(pl.Datetime, \"%Y-%m-%dT%H:%M:%S%Z\")),  # Parse timestamp to datetime / change %Z into %z for keeping\n",
    "        )\n",
    "    )\n",
    "    .collect()  # Collect the Polars DataFrame\n",
    "    .to_pandas()  # Convert to pandas DataFrame\n",
    ")"
   ]
  },
  {
   "cell_type": "code",
   "execution_count": 25,
   "metadata": {},
   "outputs": [
    {
     "name": "stdout",
     "output_type": "stream",
     "text": [
      "<class 'pandas.core.frame.DataFrame'>\n",
      "RangeIndex: 127946340 entries, 0 to 127946339\n",
      "Data columns (total 5 columns):\n",
      " #   Column     Dtype         \n",
      "---  ------     -----         \n",
      " 0   series_id  object        \n",
      " 1   step       uint32        \n",
      " 2   timestamp  datetime64[us]\n",
      " 3   anglez     float32       \n",
      " 4   enmo       float32       \n",
      "dtypes: datetime64[us](1), float32(2), object(1), uint32(1)\n",
      "memory usage: 3.3+ GB\n"
     ]
    }
   ],
   "source": [
    "# Display information about the DataFrame\n",
    "train_series.info()"
   ]
  },
  {
   "cell_type": "markdown",
   "metadata": {},
   "source": [
    "The following function has been taken from the notebook \n",
    "<a \n",
    "   href=https://www.kaggle.com/code/renatoreggiani/feat-eng-ideas-60-memory-reduction-cmi>\n",
    "    🛠Feat Eng ideas & 60% memory reduction 🛠- CMI\n",
    "</a>. Thanks to Renato Reggiani."
   ]
  },
  {
   "cell_type": "code",
   "execution_count": 26,
   "metadata": {},
   "outputs": [],
   "source": [
    "# Define a function to reduce memory usage of a DataFrame\n",
    "def reduce_mem_usage(df):\n",
    "    \"\"\" \n",
    "    Iterate through all numeric columns of a dataframe and modify the data type\n",
    "    to reduce memory usage.        \n",
    "    \"\"\"\n",
    "    \n",
    "    # Display the initial memory usage of the DataFrame\n",
    "    start_mem = df.memory_usage().sum() / 1024**2\n",
    "    print(f'Memory usage of dataframe is {start_mem:.2f} MB')\n",
    "    \n",
    "    # Iterate through each column in the DataFrame\n",
    "    for col in df.columns:\n",
    "        col_type = df[col].dtype\n",
    "\n",
    "        # Check if the column is not an object type and not a datetime64 type\n",
    "        if col_type != object and not np.issubdtype(df[col], np.datetime64):\n",
    "            c_min = df[col].min()\n",
    "            c_max = df[col].max()\n",
    "\n",
    "            # Check if the column is of integer type\n",
    "            if str(col_type)[:3] == 'int':\n",
    "                # Check the range of values to determine the smallest integer type that can be used\n",
    "                if c_min > np.iinfo(np.int8).min and c_max < np.iinfo(np.int8).max:\n",
    "                    df[col] = df[col].astype(np.int8)\n",
    "                elif c_min > np.iinfo(np.int16).min and c_max < np.iinfo(np.int16).max:\n",
    "                    df[col] = df[col].astype(np.int16)\n",
    "                elif c_min > np.iinfo(np.int32).min and c_max < np.iinfo(np.int32).max:\n",
    "                    df[col] = df[col].astype(np.int32)\n",
    "                elif c_min > np.iinfo(np.int64).min and c_max < np.iinfo(np.int64).max:\n",
    "                    df[col] = df[col].astype(np.int64)  \n",
    "            else:\n",
    "                # If the column is of floating-point type, determine the smallest type that can be used\n",
    "                if c_min > np.finfo(np.float32).min and c_max < np.finfo(np.float32).max:\n",
    "                    df[col] = df[col].astype(np.float32)\n",
    "                else:\n",
    "                    df[col] = df[col].astype(np.float64)\n",
    "        \n",
    "    # Convert the 'series_id' column to the categorical type\n",
    "    df['series_id'] = df['series_id'].astype('category')\n",
    "\n",
    "    # Display the memory usage after optimization\n",
    "    end_mem = df.memory_usage().sum() / 1024**2\n",
    "    print(f'Memory usage after optimisation is: {end_mem:.2f} MB')\n",
    "    \n",
    "    # Calculate and display the percentage decrease in memory usage\n",
    "    decrease = 100 * (start_mem - end_mem) / start_mem\n",
    "    print(f'Decreased by {decrease:.2f}%')\n",
    "    \n",
    "    # Return the optimized DataFrame\n",
    "    return df\n"
   ]
  },
  {
   "cell_type": "code",
   "execution_count": 27,
   "metadata": {},
   "outputs": [
    {
     "name": "stdout",
     "output_type": "stream",
     "text": [
      "Memory usage of dataframe is 3416.54 MB\n",
      "Memory usage after optimisation is: 2684.43 MB\n",
      "Decreased by 21.43%\n"
     ]
    }
   ],
   "source": [
    "# this line calls the 'reduce_mem_usage' function\n",
    "# to optimize the memory usage of the 'train_series' DataFrame and assigns the result back to 'train_series'\n",
    "# the 'reduce_mem_usage' function is expected to be defined before this line in the code\n",
    "train_series = reduce_mem_usage(train_series)"
   ]
  },
  {
   "cell_type": "code",
   "execution_count": 28,
   "metadata": {},
   "outputs": [
    {
     "data": {
      "text/plain": [
       "Index          0.000122\n",
       "series_id    244.048302\n",
       "step         488.076553\n",
       "timestamp    976.153107\n",
       "anglez       488.076553\n",
       "enmo         488.076553\n",
       "dtype: float64"
      ]
     },
     "execution_count": 28,
     "metadata": {},
     "output_type": "execute_result"
    }
   ],
   "source": [
    "# calculate the memory usage of the 'train_series' DataFrame in megabytes (MB)\n",
    "# the 'memory_usage()' function returns the memory usage for each column in bytes,\n",
    "# and dividing by 1024**2 converts it to megabytes (MB).\n",
    "train_series.memory_usage() / 1024**2"
   ]
  },
  {
   "cell_type": "code",
   "execution_count": 29,
   "metadata": {},
   "outputs": [
    {
     "data": {
      "text/html": [
       "<div>\n",
       "<style scoped>\n",
       "    .dataframe tbody tr th:only-of-type {\n",
       "        vertical-align: middle;\n",
       "    }\n",
       "\n",
       "    .dataframe tbody tr th {\n",
       "        vertical-align: top;\n",
       "    }\n",
       "\n",
       "    .dataframe thead th {\n",
       "        text-align: right;\n",
       "    }\n",
       "</style>\n",
       "<table border=\"1\" class=\"dataframe\">\n",
       "  <thead>\n",
       "    <tr style=\"text-align: right;\">\n",
       "      <th></th>\n",
       "      <th>series_id</th>\n",
       "      <th>step</th>\n",
       "      <th>timestamp</th>\n",
       "      <th>anglez</th>\n",
       "      <th>enmo</th>\n",
       "    </tr>\n",
       "  </thead>\n",
       "  <tbody>\n",
       "    <tr>\n",
       "      <th>0</th>\n",
       "      <td>038441c925bb</td>\n",
       "      <td>0.0</td>\n",
       "      <td>2018-08-14 15:30:00</td>\n",
       "      <td>2.6367</td>\n",
       "      <td>0.0217</td>\n",
       "    </tr>\n",
       "    <tr>\n",
       "      <th>1</th>\n",
       "      <td>038441c925bb</td>\n",
       "      <td>1.0</td>\n",
       "      <td>2018-08-14 15:30:05</td>\n",
       "      <td>2.6368</td>\n",
       "      <td>0.0215</td>\n",
       "    </tr>\n",
       "    <tr>\n",
       "      <th>2</th>\n",
       "      <td>038441c925bb</td>\n",
       "      <td>2.0</td>\n",
       "      <td>2018-08-14 15:30:10</td>\n",
       "      <td>2.6370</td>\n",
       "      <td>0.0216</td>\n",
       "    </tr>\n",
       "    <tr>\n",
       "      <th>3</th>\n",
       "      <td>038441c925bb</td>\n",
       "      <td>3.0</td>\n",
       "      <td>2018-08-14 15:30:15</td>\n",
       "      <td>2.6368</td>\n",
       "      <td>0.0213</td>\n",
       "    </tr>\n",
       "    <tr>\n",
       "      <th>4</th>\n",
       "      <td>038441c925bb</td>\n",
       "      <td>4.0</td>\n",
       "      <td>2018-08-14 15:30:20</td>\n",
       "      <td>2.6368</td>\n",
       "      <td>0.0215</td>\n",
       "    </tr>\n",
       "  </tbody>\n",
       "</table>\n",
       "</div>"
      ],
      "text/plain": [
       "      series_id  step           timestamp  anglez    enmo\n",
       "0  038441c925bb   0.0 2018-08-14 15:30:00  2.6367  0.0217\n",
       "1  038441c925bb   1.0 2018-08-14 15:30:05  2.6368  0.0215\n",
       "2  038441c925bb   2.0 2018-08-14 15:30:10  2.6370  0.0216\n",
       "3  038441c925bb   3.0 2018-08-14 15:30:15  2.6368  0.0213\n",
       "4  038441c925bb   4.0 2018-08-14 15:30:20  2.6368  0.0215"
      ]
     },
     "execution_count": 29,
     "metadata": {},
     "output_type": "execute_result"
    }
   ],
   "source": [
    "# display the first few rows of the 'train_series' DataFrame\n",
    "# the 'head()' function is used to retrieve the top rows (by default, the first 5 rows) of the DataFrame\n",
    "train_series.head()"
   ]
  },
  {
   "cell_type": "code",
   "execution_count": 32,
   "metadata": {},
   "outputs": [
    {
     "ename": "FileNotFoundError",
     "evalue": "No such file or directory (os error 2): gs://sleep-nov2023/data/original_data/train_events.csv",
     "output_type": "error",
     "traceback": [
      "\u001b[0;31m---------------------------------------------------------------------------\u001b[0m",
      "\u001b[0;31mFileNotFoundError\u001b[0m                         Traceback (most recent call last)",
      "Cell \u001b[0;32mIn[32], line 2\u001b[0m\n\u001b[1;32m      1\u001b[0m \u001b[38;5;66;03m# scan the CSV file and create a polars DataFrame\u001b[39;00m\n\u001b[0;32m----> 2\u001b[0m train_events \u001b[38;5;241m=\u001b[39m (\u001b[43mpl\u001b[49m\u001b[38;5;241;43m.\u001b[39;49m\u001b[43mscan_csv\u001b[49m\u001b[43m(\u001b[49m\u001b[43mpath\u001b[49m\u001b[43m \u001b[49m\u001b[38;5;241;43m+\u001b[39;49m\u001b[43m \u001b[49m\u001b[38;5;124;43m'\u001b[39;49m\u001b[38;5;124;43moriginal_data/train_events.csv\u001b[39;49m\u001b[38;5;124;43m'\u001b[39;49m\u001b[43m)\u001b[49m\n\u001b[1;32m      3\u001b[0m                 \n\u001b[1;32m      4\u001b[0m                 \u001b[38;5;66;03m# Perform column-wise transformations\u001b[39;00m\n\u001b[1;32m      5\u001b[0m                 \u001b[38;5;241m.\u001b[39mwith_columns(\n\u001b[1;32m      6\u001b[0m                     (\n\u001b[1;32m      7\u001b[0m                         \u001b[38;5;66;03m# Convert the 'timestamp' column to datetime format\u001b[39;00m\n\u001b[1;32m      8\u001b[0m                         (pl\u001b[38;5;241m.\u001b[39mcol(\u001b[38;5;124m\"\u001b[39m\u001b[38;5;124mtimestamp\u001b[39m\u001b[38;5;124m\"\u001b[39m)\u001b[38;5;241m.\u001b[39mstr\u001b[38;5;241m.\u001b[39mstrptime(pl\u001b[38;5;241m.\u001b[39mDatetime, \u001b[38;5;124m\"\u001b[39m\u001b[38;5;124m%\u001b[39m\u001b[38;5;124mY-\u001b[39m\u001b[38;5;124m%\u001b[39m\u001b[38;5;124mm-\u001b[39m\u001b[38;5;132;01m%d\u001b[39;00m\u001b[38;5;124mT\u001b[39m\u001b[38;5;124m%\u001b[39m\u001b[38;5;124mH:\u001b[39m\u001b[38;5;124m%\u001b[39m\u001b[38;5;124mM:\u001b[39m\u001b[38;5;124m%\u001b[39m\u001b[38;5;124mS\u001b[39m\u001b[38;5;124m%\u001b[39m\u001b[38;5;124mZ\u001b[39m\u001b[38;5;124m\"\u001b[39m)),\n\u001b[1;32m      9\u001b[0m                         \n\u001b[1;32m     10\u001b[0m                         \u001b[38;5;66;03m# Extract year from the 'timestamp' column\u001b[39;00m\n\u001b[1;32m     11\u001b[0m                         (pl\u001b[38;5;241m.\u001b[39mcol(\u001b[38;5;124m\"\u001b[39m\u001b[38;5;124mtimestamp\u001b[39m\u001b[38;5;124m\"\u001b[39m)\u001b[38;5;241m.\u001b[39mstr\u001b[38;5;241m.\u001b[39mstrptime(pl\u001b[38;5;241m.\u001b[39mDatetime, \u001b[38;5;124m\"\u001b[39m\u001b[38;5;124m%\u001b[39m\u001b[38;5;124mY-\u001b[39m\u001b[38;5;124m%\u001b[39m\u001b[38;5;124mm-\u001b[39m\u001b[38;5;132;01m%d\u001b[39;00m\u001b[38;5;124mT\u001b[39m\u001b[38;5;124m%\u001b[39m\u001b[38;5;124mH:\u001b[39m\u001b[38;5;124m%\u001b[39m\u001b[38;5;124mM:\u001b[39m\u001b[38;5;124m%\u001b[39m\u001b[38;5;124mS\u001b[39m\u001b[38;5;124m%\u001b[39m\u001b[38;5;124mZ\u001b[39m\u001b[38;5;124m\"\u001b[39m)\u001b[38;5;241m.\u001b[39mdt\u001b[38;5;241m.\u001b[39myear()\u001b[38;5;241m.\u001b[39malias(\u001b[38;5;124m\"\u001b[39m\u001b[38;5;124myear\u001b[39m\u001b[38;5;124m\"\u001b[39m)),\n\u001b[1;32m     12\u001b[0m                         \n\u001b[1;32m     13\u001b[0m                         \u001b[38;5;66;03m# Extract month from the 'timestamp' column\u001b[39;00m\n\u001b[1;32m     14\u001b[0m                         (pl\u001b[38;5;241m.\u001b[39mcol(\u001b[38;5;124m\"\u001b[39m\u001b[38;5;124mtimestamp\u001b[39m\u001b[38;5;124m\"\u001b[39m)\u001b[38;5;241m.\u001b[39mstr\u001b[38;5;241m.\u001b[39mstrptime(pl\u001b[38;5;241m.\u001b[39mDatetime, \u001b[38;5;124m\"\u001b[39m\u001b[38;5;124m%\u001b[39m\u001b[38;5;124mY-\u001b[39m\u001b[38;5;124m%\u001b[39m\u001b[38;5;124mm-\u001b[39m\u001b[38;5;132;01m%d\u001b[39;00m\u001b[38;5;124mT\u001b[39m\u001b[38;5;124m%\u001b[39m\u001b[38;5;124mH:\u001b[39m\u001b[38;5;124m%\u001b[39m\u001b[38;5;124mM:\u001b[39m\u001b[38;5;124m%\u001b[39m\u001b[38;5;124mS\u001b[39m\u001b[38;5;124m%\u001b[39m\u001b[38;5;124mZ\u001b[39m\u001b[38;5;124m\"\u001b[39m)\u001b[38;5;241m.\u001b[39mdt\u001b[38;5;241m.\u001b[39mmonth()\u001b[38;5;241m.\u001b[39malias(\u001b[38;5;124m\"\u001b[39m\u001b[38;5;124mmonth\u001b[39m\u001b[38;5;124m\"\u001b[39m)),\n\u001b[1;32m     15\u001b[0m                         \n\u001b[1;32m     16\u001b[0m                         \u001b[38;5;66;03m# Extract day from the 'timestamp' column\u001b[39;00m\n\u001b[1;32m     17\u001b[0m                         (pl\u001b[38;5;241m.\u001b[39mcol(\u001b[38;5;124m\"\u001b[39m\u001b[38;5;124mtimestamp\u001b[39m\u001b[38;5;124m\"\u001b[39m)\u001b[38;5;241m.\u001b[39mstr\u001b[38;5;241m.\u001b[39mstrptime(pl\u001b[38;5;241m.\u001b[39mDatetime, \u001b[38;5;124m\"\u001b[39m\u001b[38;5;124m%\u001b[39m\u001b[38;5;124mY-\u001b[39m\u001b[38;5;124m%\u001b[39m\u001b[38;5;124mm-\u001b[39m\u001b[38;5;132;01m%d\u001b[39;00m\u001b[38;5;124mT\u001b[39m\u001b[38;5;124m%\u001b[39m\u001b[38;5;124mH:\u001b[39m\u001b[38;5;124m%\u001b[39m\u001b[38;5;124mM:\u001b[39m\u001b[38;5;124m%\u001b[39m\u001b[38;5;124mS\u001b[39m\u001b[38;5;124m%\u001b[39m\u001b[38;5;124mZ\u001b[39m\u001b[38;5;124m\"\u001b[39m)\u001b[38;5;241m.\u001b[39mdt\u001b[38;5;241m.\u001b[39mday()\u001b[38;5;241m.\u001b[39malias(\u001b[38;5;124m\"\u001b[39m\u001b[38;5;124mday\u001b[39m\u001b[38;5;124m\"\u001b[39m)),\n\u001b[1;32m     18\u001b[0m                         \n\u001b[1;32m     19\u001b[0m                         \u001b[38;5;66;03m# Extract hour from the 'timestamp' column\u001b[39;00m\n\u001b[1;32m     20\u001b[0m                         (pl\u001b[38;5;241m.\u001b[39mcol(\u001b[38;5;124m\"\u001b[39m\u001b[38;5;124mtimestamp\u001b[39m\u001b[38;5;124m\"\u001b[39m)\u001b[38;5;241m.\u001b[39mstr\u001b[38;5;241m.\u001b[39mstrptime(pl\u001b[38;5;241m.\u001b[39mDatetime, \u001b[38;5;124m\"\u001b[39m\u001b[38;5;124m%\u001b[39m\u001b[38;5;124mY-\u001b[39m\u001b[38;5;124m%\u001b[39m\u001b[38;5;124mm-\u001b[39m\u001b[38;5;132;01m%d\u001b[39;00m\u001b[38;5;124mT\u001b[39m\u001b[38;5;124m%\u001b[39m\u001b[38;5;124mH:\u001b[39m\u001b[38;5;124m%\u001b[39m\u001b[38;5;124mM:\u001b[39m\u001b[38;5;124m%\u001b[39m\u001b[38;5;124mS\u001b[39m\u001b[38;5;124m%\u001b[39m\u001b[38;5;124mZ\u001b[39m\u001b[38;5;124m\"\u001b[39m)\u001b[38;5;241m.\u001b[39mdt\u001b[38;5;241m.\u001b[39mhour()\u001b[38;5;241m.\u001b[39malias(\u001b[38;5;124m\"\u001b[39m\u001b[38;5;124mhour\u001b[39m\u001b[38;5;124m\"\u001b[39m)),\n\u001b[1;32m     21\u001b[0m                     )\n\u001b[1;32m     22\u001b[0m                 )\n\u001b[1;32m     23\u001b[0m                 \n\u001b[1;32m     24\u001b[0m                 \u001b[38;5;66;03m# Collect the polars DataFrame\u001b[39;00m\n\u001b[1;32m     25\u001b[0m                 \u001b[38;5;241m.\u001b[39mcollect()\n\u001b[1;32m     26\u001b[0m                 \n\u001b[1;32m     27\u001b[0m                 \u001b[38;5;66;03m# Convert the collected data to a Pandas DataFrame\u001b[39;00m\n\u001b[1;32m     28\u001b[0m                 \u001b[38;5;241m.\u001b[39mto_pandas()\n\u001b[1;32m     29\u001b[0m                )\n",
      "File \u001b[0;32m/opt/conda/lib/python3.10/site-packages/polars/utils/deprecation.py:100\u001b[0m, in \u001b[0;36mdeprecate_renamed_parameter.<locals>.decorate.<locals>.wrapper\u001b[0;34m(*args, **kwargs)\u001b[0m\n\u001b[1;32m     95\u001b[0m \u001b[38;5;129m@wraps\u001b[39m(function)\n\u001b[1;32m     96\u001b[0m \u001b[38;5;28;01mdef\u001b[39;00m \u001b[38;5;21mwrapper\u001b[39m(\u001b[38;5;241m*\u001b[39margs: P\u001b[38;5;241m.\u001b[39margs, \u001b[38;5;241m*\u001b[39m\u001b[38;5;241m*\u001b[39mkwargs: P\u001b[38;5;241m.\u001b[39mkwargs) \u001b[38;5;241m-\u001b[39m\u001b[38;5;241m>\u001b[39m T:\n\u001b[1;32m     97\u001b[0m     _rename_keyword_argument(\n\u001b[1;32m     98\u001b[0m         old_name, new_name, kwargs, function\u001b[38;5;241m.\u001b[39m\u001b[38;5;18m__name__\u001b[39m, version\n\u001b[1;32m     99\u001b[0m     )\n\u001b[0;32m--> 100\u001b[0m     \u001b[38;5;28;01mreturn\u001b[39;00m \u001b[43mfunction\u001b[49m\u001b[43m(\u001b[49m\u001b[38;5;241;43m*\u001b[39;49m\u001b[43margs\u001b[49m\u001b[43m,\u001b[49m\u001b[43m \u001b[49m\u001b[38;5;241;43m*\u001b[39;49m\u001b[38;5;241;43m*\u001b[39;49m\u001b[43mkwargs\u001b[49m\u001b[43m)\u001b[49m\n",
      "File \u001b[0;32m/opt/conda/lib/python3.10/site-packages/polars/io/csv/functions.py:919\u001b[0m, in \u001b[0;36mscan_csv\u001b[0;34m(source, has_header, separator, comment_prefix, quote_char, skip_rows, dtypes, schema, null_values, missing_utf8_is_empty_string, ignore_errors, cache, with_column_names, infer_schema_length, n_rows, encoding, low_memory, rechunk, skip_rows_after_header, row_count_name, row_count_offset, try_parse_dates, eol_char, new_columns, raise_if_empty, truncate_ragged_lines)\u001b[0m\n\u001b[1;32m    916\u001b[0m \u001b[38;5;28;01melse\u001b[39;00m:\n\u001b[1;32m    917\u001b[0m     source \u001b[38;5;241m=\u001b[39m [normalize_filepath(source) \u001b[38;5;28;01mfor\u001b[39;00m source \u001b[38;5;129;01min\u001b[39;00m source]\n\u001b[0;32m--> 919\u001b[0m \u001b[38;5;28;01mreturn\u001b[39;00m \u001b[43mpl\u001b[49m\u001b[38;5;241;43m.\u001b[39;49m\u001b[43mLazyFrame\u001b[49m\u001b[38;5;241;43m.\u001b[39;49m\u001b[43m_scan_csv\u001b[49m\u001b[43m(\u001b[49m\n\u001b[1;32m    920\u001b[0m \u001b[43m    \u001b[49m\u001b[43msource\u001b[49m\u001b[43m,\u001b[49m\n\u001b[1;32m    921\u001b[0m \u001b[43m    \u001b[49m\u001b[43mhas_header\u001b[49m\u001b[38;5;241;43m=\u001b[39;49m\u001b[43mhas_header\u001b[49m\u001b[43m,\u001b[49m\n\u001b[1;32m    922\u001b[0m \u001b[43m    \u001b[49m\u001b[43mseparator\u001b[49m\u001b[38;5;241;43m=\u001b[39;49m\u001b[43mseparator\u001b[49m\u001b[43m,\u001b[49m\n\u001b[1;32m    923\u001b[0m \u001b[43m    \u001b[49m\u001b[43mcomment_prefix\u001b[49m\u001b[38;5;241;43m=\u001b[39;49m\u001b[43mcomment_prefix\u001b[49m\u001b[43m,\u001b[49m\n\u001b[1;32m    924\u001b[0m \u001b[43m    \u001b[49m\u001b[43mquote_char\u001b[49m\u001b[38;5;241;43m=\u001b[39;49m\u001b[43mquote_char\u001b[49m\u001b[43m,\u001b[49m\n\u001b[1;32m    925\u001b[0m \u001b[43m    \u001b[49m\u001b[43mskip_rows\u001b[49m\u001b[38;5;241;43m=\u001b[39;49m\u001b[43mskip_rows\u001b[49m\u001b[43m,\u001b[49m\n\u001b[1;32m    926\u001b[0m \u001b[43m    \u001b[49m\u001b[43mdtypes\u001b[49m\u001b[38;5;241;43m=\u001b[39;49m\u001b[43mdtypes\u001b[49m\u001b[43m,\u001b[49m\u001b[43m  \u001b[49m\u001b[38;5;66;43;03m# type: ignore[arg-type]\u001b[39;49;00m\n\u001b[1;32m    927\u001b[0m \u001b[43m    \u001b[49m\u001b[43mschema\u001b[49m\u001b[38;5;241;43m=\u001b[39;49m\u001b[43mschema\u001b[49m\u001b[43m,\u001b[49m\n\u001b[1;32m    928\u001b[0m \u001b[43m    \u001b[49m\u001b[43mnull_values\u001b[49m\u001b[38;5;241;43m=\u001b[39;49m\u001b[43mnull_values\u001b[49m\u001b[43m,\u001b[49m\n\u001b[1;32m    929\u001b[0m \u001b[43m    \u001b[49m\u001b[43mmissing_utf8_is_empty_string\u001b[49m\u001b[38;5;241;43m=\u001b[39;49m\u001b[43mmissing_utf8_is_empty_string\u001b[49m\u001b[43m,\u001b[49m\n\u001b[1;32m    930\u001b[0m \u001b[43m    \u001b[49m\u001b[43mignore_errors\u001b[49m\u001b[38;5;241;43m=\u001b[39;49m\u001b[43mignore_errors\u001b[49m\u001b[43m,\u001b[49m\n\u001b[1;32m    931\u001b[0m \u001b[43m    \u001b[49m\u001b[43mcache\u001b[49m\u001b[38;5;241;43m=\u001b[39;49m\u001b[43mcache\u001b[49m\u001b[43m,\u001b[49m\n\u001b[1;32m    932\u001b[0m \u001b[43m    \u001b[49m\u001b[43mwith_column_names\u001b[49m\u001b[38;5;241;43m=\u001b[39;49m\u001b[43mwith_column_names\u001b[49m\u001b[43m,\u001b[49m\n\u001b[1;32m    933\u001b[0m \u001b[43m    \u001b[49m\u001b[43minfer_schema_length\u001b[49m\u001b[38;5;241;43m=\u001b[39;49m\u001b[43minfer_schema_length\u001b[49m\u001b[43m,\u001b[49m\n\u001b[1;32m    934\u001b[0m \u001b[43m    \u001b[49m\u001b[43mn_rows\u001b[49m\u001b[38;5;241;43m=\u001b[39;49m\u001b[43mn_rows\u001b[49m\u001b[43m,\u001b[49m\n\u001b[1;32m    935\u001b[0m \u001b[43m    \u001b[49m\u001b[43mlow_memory\u001b[49m\u001b[38;5;241;43m=\u001b[39;49m\u001b[43mlow_memory\u001b[49m\u001b[43m,\u001b[49m\n\u001b[1;32m    936\u001b[0m \u001b[43m    \u001b[49m\u001b[43mrechunk\u001b[49m\u001b[38;5;241;43m=\u001b[39;49m\u001b[43mrechunk\u001b[49m\u001b[43m,\u001b[49m\n\u001b[1;32m    937\u001b[0m \u001b[43m    \u001b[49m\u001b[43mskip_rows_after_header\u001b[49m\u001b[38;5;241;43m=\u001b[39;49m\u001b[43mskip_rows_after_header\u001b[49m\u001b[43m,\u001b[49m\n\u001b[1;32m    938\u001b[0m \u001b[43m    \u001b[49m\u001b[43mencoding\u001b[49m\u001b[38;5;241;43m=\u001b[39;49m\u001b[43mencoding\u001b[49m\u001b[43m,\u001b[49m\n\u001b[1;32m    939\u001b[0m \u001b[43m    \u001b[49m\u001b[43mrow_count_name\u001b[49m\u001b[38;5;241;43m=\u001b[39;49m\u001b[43mrow_count_name\u001b[49m\u001b[43m,\u001b[49m\n\u001b[1;32m    940\u001b[0m \u001b[43m    \u001b[49m\u001b[43mrow_count_offset\u001b[49m\u001b[38;5;241;43m=\u001b[39;49m\u001b[43mrow_count_offset\u001b[49m\u001b[43m,\u001b[49m\n\u001b[1;32m    941\u001b[0m \u001b[43m    \u001b[49m\u001b[43mtry_parse_dates\u001b[49m\u001b[38;5;241;43m=\u001b[39;49m\u001b[43mtry_parse_dates\u001b[49m\u001b[43m,\u001b[49m\n\u001b[1;32m    942\u001b[0m \u001b[43m    \u001b[49m\u001b[43meol_char\u001b[49m\u001b[38;5;241;43m=\u001b[39;49m\u001b[43meol_char\u001b[49m\u001b[43m,\u001b[49m\n\u001b[1;32m    943\u001b[0m \u001b[43m    \u001b[49m\u001b[43mraise_if_empty\u001b[49m\u001b[38;5;241;43m=\u001b[39;49m\u001b[43mraise_if_empty\u001b[49m\u001b[43m,\u001b[49m\n\u001b[1;32m    944\u001b[0m \u001b[43m    \u001b[49m\u001b[43mtruncate_ragged_lines\u001b[49m\u001b[38;5;241;43m=\u001b[39;49m\u001b[43mtruncate_ragged_lines\u001b[49m\u001b[43m,\u001b[49m\n\u001b[1;32m    945\u001b[0m \u001b[43m\u001b[49m\u001b[43m)\u001b[49m\n",
      "File \u001b[0;32m/opt/conda/lib/python3.10/site-packages/polars/lazyframe/frame.py:373\u001b[0m, in \u001b[0;36mLazyFrame._scan_csv\u001b[0;34m(cls, source, has_header, separator, comment_prefix, quote_char, skip_rows, dtypes, schema, null_values, missing_utf8_is_empty_string, ignore_errors, cache, with_column_names, infer_schema_length, n_rows, encoding, low_memory, rechunk, skip_rows_after_header, row_count_name, row_count_offset, try_parse_dates, eol_char, raise_if_empty, truncate_ragged_lines)\u001b[0m\n\u001b[1;32m    370\u001b[0m     sources \u001b[38;5;241m=\u001b[39m []  \u001b[38;5;66;03m# type: ignore[assignment]\u001b[39;00m\n\u001b[1;32m    372\u001b[0m \u001b[38;5;28mself\u001b[39m \u001b[38;5;241m=\u001b[39m \u001b[38;5;28mcls\u001b[39m\u001b[38;5;241m.\u001b[39m\u001b[38;5;21m__new__\u001b[39m(\u001b[38;5;28mcls\u001b[39m)\n\u001b[0;32m--> 373\u001b[0m \u001b[38;5;28mself\u001b[39m\u001b[38;5;241m.\u001b[39m_ldf \u001b[38;5;241m=\u001b[39m \u001b[43mPyLazyFrame\u001b[49m\u001b[38;5;241;43m.\u001b[39;49m\u001b[43mnew_from_csv\u001b[49m\u001b[43m(\u001b[49m\n\u001b[1;32m    374\u001b[0m \u001b[43m    \u001b[49m\u001b[43msource\u001b[49m\u001b[43m,\u001b[49m\n\u001b[1;32m    375\u001b[0m \u001b[43m    \u001b[49m\u001b[43msources\u001b[49m\u001b[43m,\u001b[49m\n\u001b[1;32m    376\u001b[0m \u001b[43m    \u001b[49m\u001b[43mseparator\u001b[49m\u001b[43m,\u001b[49m\n\u001b[1;32m    377\u001b[0m \u001b[43m    \u001b[49m\u001b[43mhas_header\u001b[49m\u001b[43m,\u001b[49m\n\u001b[1;32m    378\u001b[0m \u001b[43m    \u001b[49m\u001b[43mignore_errors\u001b[49m\u001b[43m,\u001b[49m\n\u001b[1;32m    379\u001b[0m \u001b[43m    \u001b[49m\u001b[43mskip_rows\u001b[49m\u001b[43m,\u001b[49m\n\u001b[1;32m    380\u001b[0m \u001b[43m    \u001b[49m\u001b[43mn_rows\u001b[49m\u001b[43m,\u001b[49m\n\u001b[1;32m    381\u001b[0m \u001b[43m    \u001b[49m\u001b[43mcache\u001b[49m\u001b[43m,\u001b[49m\n\u001b[1;32m    382\u001b[0m \u001b[43m    \u001b[49m\u001b[43mdtype_list\u001b[49m\u001b[43m,\u001b[49m\n\u001b[1;32m    383\u001b[0m \u001b[43m    \u001b[49m\u001b[43mlow_memory\u001b[49m\u001b[43m,\u001b[49m\n\u001b[1;32m    384\u001b[0m \u001b[43m    \u001b[49m\u001b[43mcomment_prefix\u001b[49m\u001b[43m,\u001b[49m\n\u001b[1;32m    385\u001b[0m \u001b[43m    \u001b[49m\u001b[43mquote_char\u001b[49m\u001b[43m,\u001b[49m\n\u001b[1;32m    386\u001b[0m \u001b[43m    \u001b[49m\u001b[43mprocessed_null_values\u001b[49m\u001b[43m,\u001b[49m\n\u001b[1;32m    387\u001b[0m \u001b[43m    \u001b[49m\u001b[43mmissing_utf8_is_empty_string\u001b[49m\u001b[43m,\u001b[49m\n\u001b[1;32m    388\u001b[0m \u001b[43m    \u001b[49m\u001b[43minfer_schema_length\u001b[49m\u001b[43m,\u001b[49m\n\u001b[1;32m    389\u001b[0m \u001b[43m    \u001b[49m\u001b[43mwith_column_names\u001b[49m\u001b[43m,\u001b[49m\n\u001b[1;32m    390\u001b[0m \u001b[43m    \u001b[49m\u001b[43mrechunk\u001b[49m\u001b[43m,\u001b[49m\n\u001b[1;32m    391\u001b[0m \u001b[43m    \u001b[49m\u001b[43mskip_rows_after_header\u001b[49m\u001b[43m,\u001b[49m\n\u001b[1;32m    392\u001b[0m \u001b[43m    \u001b[49m\u001b[43mencoding\u001b[49m\u001b[43m,\u001b[49m\n\u001b[1;32m    393\u001b[0m \u001b[43m    \u001b[49m\u001b[43m_prepare_row_count_args\u001b[49m\u001b[43m(\u001b[49m\u001b[43mrow_count_name\u001b[49m\u001b[43m,\u001b[49m\u001b[43m \u001b[49m\u001b[43mrow_count_offset\u001b[49m\u001b[43m)\u001b[49m\u001b[43m,\u001b[49m\n\u001b[1;32m    394\u001b[0m \u001b[43m    \u001b[49m\u001b[43mtry_parse_dates\u001b[49m\u001b[43m,\u001b[49m\n\u001b[1;32m    395\u001b[0m \u001b[43m    \u001b[49m\u001b[43meol_char\u001b[49m\u001b[38;5;241;43m=\u001b[39;49m\u001b[43meol_char\u001b[49m\u001b[43m,\u001b[49m\n\u001b[1;32m    396\u001b[0m \u001b[43m    \u001b[49m\u001b[43mraise_if_empty\u001b[49m\u001b[38;5;241;43m=\u001b[39;49m\u001b[43mraise_if_empty\u001b[49m\u001b[43m,\u001b[49m\n\u001b[1;32m    397\u001b[0m \u001b[43m    \u001b[49m\u001b[43mtruncate_ragged_lines\u001b[49m\u001b[38;5;241;43m=\u001b[39;49m\u001b[43mtruncate_ragged_lines\u001b[49m\u001b[43m,\u001b[49m\n\u001b[1;32m    398\u001b[0m \u001b[43m    \u001b[49m\u001b[43mschema\u001b[49m\u001b[38;5;241;43m=\u001b[39;49m\u001b[43mschema\u001b[49m\u001b[43m,\u001b[49m\n\u001b[1;32m    399\u001b[0m \u001b[43m\u001b[49m\u001b[43m)\u001b[49m\n\u001b[1;32m    400\u001b[0m \u001b[38;5;28;01mreturn\u001b[39;00m \u001b[38;5;28mself\u001b[39m\n",
      "\u001b[0;31mFileNotFoundError\u001b[0m: No such file or directory (os error 2): gs://sleep-nov2023/data/original_data/train_events.csv"
     ]
    }
   ],
   "source": [
    "# scan the CSV file and create a polars DataFrame\n",
    "train_events = (pl.scan_csv(path + 'original_data/train_events.csv')\n",
    "                \n",
    "                # Perform column-wise transformations\n",
    "                .with_columns(\n",
    "                    (\n",
    "                        # Convert the 'timestamp' column to datetime format\n",
    "                        (pl.col(\"timestamp\").str.strptime(pl.Datetime, \"%Y-%m-%dT%H:%M:%S%Z\")),\n",
    "                        \n",
    "                        # Extract year from the 'timestamp' column\n",
    "                        (pl.col(\"timestamp\").str.strptime(pl.Datetime, \"%Y-%m-%dT%H:%M:%S%Z\").dt.year().alias(\"year\")),\n",
    "                        \n",
    "                        # Extract month from the 'timestamp' column\n",
    "                        (pl.col(\"timestamp\").str.strptime(pl.Datetime, \"%Y-%m-%dT%H:%M:%S%Z\").dt.month().alias(\"month\")),\n",
    "                        \n",
    "                        # Extract day from the 'timestamp' column\n",
    "                        (pl.col(\"timestamp\").str.strptime(pl.Datetime, \"%Y-%m-%dT%H:%M:%S%Z\").dt.day().alias(\"day\")),\n",
    "                        \n",
    "                        # Extract hour from the 'timestamp' column\n",
    "                        (pl.col(\"timestamp\").str.strptime(pl.Datetime, \"%Y-%m-%dT%H:%M:%S%Z\").dt.hour().alias(\"hour\")),\n",
    "                    )\n",
    "                )\n",
    "                \n",
    "                # Collect the polars DataFrame\n",
    "                .collect()\n",
    "                \n",
    "                # Convert the collected data to a Pandas DataFrame\n",
    "                .to_pandas()\n",
    "               )"
   ]
  },
  {
   "cell_type": "code",
   "execution_count": null,
   "metadata": {},
   "outputs": [],
   "source": [
    "# display the first few rows of the 'train_events' DataFrame\n",
    "# the 'head()' function is used to retrieve the top rows (by default, the first 5 rows) of the DataFrame\n",
    "train_events.head()"
   ]
  },
  {
   "cell_type": "code",
   "execution_count": 33,
   "metadata": {},
   "outputs": [
    {
     "name": "stdout",
     "output_type": "stream",
     "text": [
      "CPU times: user 8.21 ms, sys: 12.2 ms, total: 20.4 ms\n",
      "Wall time: 121 ms\n"
     ]
    }
   ],
   "source": [
    "%%time\n",
    "# read a Parquet file located at the specified path using polars (pl) library,\n",
    "# then perform a series of data transformations, and finally convert it to a Pandas DataFrame\n",
    "\n",
    "# scan the Parquet file and create a polars DataFrame\n",
    "test_series = (pl.scan_parquet(path + 'original_data/test_series.parquet')\n",
    "                \n",
    "                # Perform column-wise transformations\n",
    "                .with_columns(\n",
    "                    (\n",
    "                        # Convert the 'timestamp' column to datetime format\n",
    "                        (pl.col(\"timestamp\").str.strptime(pl.Datetime, \"%Y-%m-%dT%H:%M:%S%Z\")),\n",
    "                    )\n",
    "                )\n",
    "                \n",
    "                # Collect the polars DataFrame\n",
    "                .collect()\n",
    "                \n",
    "                # Convert the collected data to a Pandas DataFrame\n",
    "                .to_pandas()\n",
    "               )\n"
   ]
  },
  {
   "cell_type": "code",
   "execution_count": 34,
   "metadata": {},
   "outputs": [
    {
     "name": "stdout",
     "output_type": "stream",
     "text": [
      "Memory usage of dataframe is 0.01 MB\n",
      "Memory usage after optimisation is: 0.01 MB\n",
      "Decreased by 23.71%\n"
     ]
    }
   ],
   "source": [
    "# optimize the memory usage of the 'test_series' DataFrame and assigns the result back to 'test_series'\n",
    "# the 'reduce_mem_usage' function is expected to be defined before this line in the code\n",
    "test_series = reduce_mem_usage(test_series)"
   ]
  },
  {
   "cell_type": "code",
   "execution_count": 37,
   "metadata": {},
   "outputs": [],
   "source": [
    "# write the 'train_series' DataFrame to a Parquet file at the specified path,\n",
    "# saving the memory-optimized version of the DataFrame\n",
    "train_series.to_parquet(path + 'memory_optimised_data/train_series_mem_optimised.parquet')\n",
    "\n",
    "# write the 'train_events' DataFrame to a Parquet file at the specified path,\n",
    "# saving the memory-optimized version of the DataFrame\n",
    "# train_events.to_parquet(path + 'memory_optimised_data/train_events_mem_optimised.parquet')\n",
    "\n",
    "# write the 'test_series' DataFrame to a Parquet file at the specified path,\n",
    "# saving the memory-optimized version of the DataFrame\n",
    "test_series.to_parquet(path + 'memory_optimised_data/test_series_mem_optimised.parquet')"
   ]
  },
  {
   "cell_type": "markdown",
   "metadata": {},
   "source": [
    "# Data Exploration"
   ]
  },
  {
   "cell_type": "code",
   "execution_count": 38,
   "metadata": {},
   "outputs": [],
   "source": [
    "# reading a Parquet file\n",
    "train_series = pd.read_parquet(path + 'memory_optimised_data/train_series_mem_optimised.parquet')"
   ]
  },
  {
   "cell_type": "code",
   "execution_count": 39,
   "metadata": {},
   "outputs": [
    {
     "data": {
      "text/html": [
       "<div>\n",
       "<style scoped>\n",
       "    .dataframe tbody tr th:only-of-type {\n",
       "        vertical-align: middle;\n",
       "    }\n",
       "\n",
       "    .dataframe tbody tr th {\n",
       "        vertical-align: top;\n",
       "    }\n",
       "\n",
       "    .dataframe thead th {\n",
       "        text-align: right;\n",
       "    }\n",
       "</style>\n",
       "<table border=\"1\" class=\"dataframe\">\n",
       "  <thead>\n",
       "    <tr style=\"text-align: right;\">\n",
       "      <th></th>\n",
       "      <th>series_id</th>\n",
       "      <th>step</th>\n",
       "      <th>timestamp</th>\n",
       "      <th>anglez</th>\n",
       "      <th>enmo</th>\n",
       "    </tr>\n",
       "  </thead>\n",
       "  <tbody>\n",
       "    <tr>\n",
       "      <th>0</th>\n",
       "      <td>038441c925bb</td>\n",
       "      <td>0.0</td>\n",
       "      <td>2018-08-14 15:30:00</td>\n",
       "      <td>2.6367</td>\n",
       "      <td>0.0217</td>\n",
       "    </tr>\n",
       "    <tr>\n",
       "      <th>1</th>\n",
       "      <td>038441c925bb</td>\n",
       "      <td>1.0</td>\n",
       "      <td>2018-08-14 15:30:05</td>\n",
       "      <td>2.6368</td>\n",
       "      <td>0.0215</td>\n",
       "    </tr>\n",
       "    <tr>\n",
       "      <th>2</th>\n",
       "      <td>038441c925bb</td>\n",
       "      <td>2.0</td>\n",
       "      <td>2018-08-14 15:30:10</td>\n",
       "      <td>2.6370</td>\n",
       "      <td>0.0216</td>\n",
       "    </tr>\n",
       "    <tr>\n",
       "      <th>3</th>\n",
       "      <td>038441c925bb</td>\n",
       "      <td>3.0</td>\n",
       "      <td>2018-08-14 15:30:15</td>\n",
       "      <td>2.6368</td>\n",
       "      <td>0.0213</td>\n",
       "    </tr>\n",
       "    <tr>\n",
       "      <th>4</th>\n",
       "      <td>038441c925bb</td>\n",
       "      <td>4.0</td>\n",
       "      <td>2018-08-14 15:30:20</td>\n",
       "      <td>2.6368</td>\n",
       "      <td>0.0215</td>\n",
       "    </tr>\n",
       "  </tbody>\n",
       "</table>\n",
       "</div>"
      ],
      "text/plain": [
       "      series_id  step           timestamp  anglez    enmo\n",
       "0  038441c925bb   0.0 2018-08-14 15:30:00  2.6367  0.0217\n",
       "1  038441c925bb   1.0 2018-08-14 15:30:05  2.6368  0.0215\n",
       "2  038441c925bb   2.0 2018-08-14 15:30:10  2.6370  0.0216\n",
       "3  038441c925bb   3.0 2018-08-14 15:30:15  2.6368  0.0213\n",
       "4  038441c925bb   4.0 2018-08-14 15:30:20  2.6368  0.0215"
      ]
     },
     "execution_count": 39,
     "metadata": {},
     "output_type": "execute_result"
    }
   ],
   "source": [
    "# displaying the first few rows of the DataFrame\n",
    "train_series.head()"
   ]
  },
  {
   "cell_type": "code",
   "execution_count": 40,
   "metadata": {},
   "outputs": [
    {
     "name": "stdout",
     "output_type": "stream",
     "text": [
      "The 'train_series' DataFrame has 127946340 rows and 5 columns.\n"
     ]
    }
   ],
   "source": [
    "# displaying the shape (number of rows and columns)\n",
    "shape1 = train_series.shape\n",
    "print(f\"The 'train_series' DataFrame has {shape1[0]} rows and {shape1[1]} columns.\")"
   ]
  },
  {
   "cell_type": "code",
   "execution_count": 41,
   "metadata": {},
   "outputs": [
    {
     "data": {
      "text/plain": [
       "series_id    0\n",
       "step         0\n",
       "timestamp    0\n",
       "anglez       0\n",
       "enmo         0\n",
       "dtype: int64"
      ]
     },
     "execution_count": 41,
     "metadata": {},
     "output_type": "execute_result"
    }
   ],
   "source": [
    "# checking for missing values in each column and summing them up\n",
    "train_series.isna().sum()"
   ]
  },
  {
   "cell_type": "markdown",
   "metadata": {},
   "source": [
    "This indicates that there are no missing values in any of the columns of the 'train_series' DataFrame."
   ]
  },
  {
   "cell_type": "code",
   "execution_count": 42,
   "metadata": {},
   "outputs": [],
   "source": [
    "# reading a Parquet file\n",
    "train_events = pd.read_parquet(path + 'memory_optimised_data/train_events_mem_optimised.parquet')"
   ]
  },
  {
   "cell_type": "code",
   "execution_count": 43,
   "metadata": {},
   "outputs": [
    {
     "data": {
      "text/html": [
       "<div>\n",
       "<style scoped>\n",
       "    .dataframe tbody tr th:only-of-type {\n",
       "        vertical-align: middle;\n",
       "    }\n",
       "\n",
       "    .dataframe tbody tr th {\n",
       "        vertical-align: top;\n",
       "    }\n",
       "\n",
       "    .dataframe thead th {\n",
       "        text-align: right;\n",
       "    }\n",
       "</style>\n",
       "<table border=\"1\" class=\"dataframe\">\n",
       "  <thead>\n",
       "    <tr style=\"text-align: right;\">\n",
       "      <th></th>\n",
       "      <th>series_id</th>\n",
       "      <th>night</th>\n",
       "      <th>event</th>\n",
       "      <th>step</th>\n",
       "      <th>timestamp</th>\n",
       "      <th>year</th>\n",
       "      <th>month</th>\n",
       "      <th>day</th>\n",
       "      <th>hour</th>\n",
       "    </tr>\n",
       "  </thead>\n",
       "  <tbody>\n",
       "    <tr>\n",
       "      <th>0</th>\n",
       "      <td>038441c925bb</td>\n",
       "      <td>1</td>\n",
       "      <td>onset</td>\n",
       "      <td>4992.0</td>\n",
       "      <td>2018-08-14 22:26:00</td>\n",
       "      <td>2018.0</td>\n",
       "      <td>8.0</td>\n",
       "      <td>14.0</td>\n",
       "      <td>22.0</td>\n",
       "    </tr>\n",
       "    <tr>\n",
       "      <th>1</th>\n",
       "      <td>038441c925bb</td>\n",
       "      <td>1</td>\n",
       "      <td>wakeup</td>\n",
       "      <td>10932.0</td>\n",
       "      <td>2018-08-15 06:41:00</td>\n",
       "      <td>2018.0</td>\n",
       "      <td>8.0</td>\n",
       "      <td>15.0</td>\n",
       "      <td>6.0</td>\n",
       "    </tr>\n",
       "    <tr>\n",
       "      <th>2</th>\n",
       "      <td>038441c925bb</td>\n",
       "      <td>2</td>\n",
       "      <td>onset</td>\n",
       "      <td>20244.0</td>\n",
       "      <td>2018-08-15 19:37:00</td>\n",
       "      <td>2018.0</td>\n",
       "      <td>8.0</td>\n",
       "      <td>15.0</td>\n",
       "      <td>19.0</td>\n",
       "    </tr>\n",
       "    <tr>\n",
       "      <th>3</th>\n",
       "      <td>038441c925bb</td>\n",
       "      <td>2</td>\n",
       "      <td>wakeup</td>\n",
       "      <td>27492.0</td>\n",
       "      <td>2018-08-16 05:41:00</td>\n",
       "      <td>2018.0</td>\n",
       "      <td>8.0</td>\n",
       "      <td>16.0</td>\n",
       "      <td>5.0</td>\n",
       "    </tr>\n",
       "    <tr>\n",
       "      <th>4</th>\n",
       "      <td>038441c925bb</td>\n",
       "      <td>3</td>\n",
       "      <td>onset</td>\n",
       "      <td>39996.0</td>\n",
       "      <td>2018-08-16 23:03:00</td>\n",
       "      <td>2018.0</td>\n",
       "      <td>8.0</td>\n",
       "      <td>16.0</td>\n",
       "      <td>23.0</td>\n",
       "    </tr>\n",
       "  </tbody>\n",
       "</table>\n",
       "</div>"
      ],
      "text/plain": [
       "      series_id  night   event     step           timestamp    year  month  \\\n",
       "0  038441c925bb      1   onset   4992.0 2018-08-14 22:26:00  2018.0    8.0   \n",
       "1  038441c925bb      1  wakeup  10932.0 2018-08-15 06:41:00  2018.0    8.0   \n",
       "2  038441c925bb      2   onset  20244.0 2018-08-15 19:37:00  2018.0    8.0   \n",
       "3  038441c925bb      2  wakeup  27492.0 2018-08-16 05:41:00  2018.0    8.0   \n",
       "4  038441c925bb      3   onset  39996.0 2018-08-16 23:03:00  2018.0    8.0   \n",
       "\n",
       "    day  hour  \n",
       "0  14.0  22.0  \n",
       "1  15.0   6.0  \n",
       "2  15.0  19.0  \n",
       "3  16.0   5.0  \n",
       "4  16.0  23.0  "
      ]
     },
     "execution_count": 43,
     "metadata": {},
     "output_type": "execute_result"
    }
   ],
   "source": [
    "# displaying the first few rows of the DataFrame\n",
    "train_events.head()"
   ]
  },
  {
   "cell_type": "code",
   "execution_count": 44,
   "metadata": {},
   "outputs": [
    {
     "name": "stdout",
     "output_type": "stream",
     "text": [
      "The 'train_events' DataFrame has 14508 rows and 9 columns.\n"
     ]
    }
   ],
   "source": [
    "# displaying the shape (number of rows and columns)\n",
    "shape2 = train_events.shape\n",
    "print(f\"The 'train_events' DataFrame has {shape2[0]} rows and {shape2[1]} columns.\")"
   ]
  },
  {
   "cell_type": "code",
   "execution_count": 45,
   "metadata": {},
   "outputs": [
    {
     "data": {
      "text/plain": [
       "series_id       0\n",
       "night           0\n",
       "event           0\n",
       "step         4923\n",
       "timestamp    4923\n",
       "year         4923\n",
       "month        4923\n",
       "day          4923\n",
       "hour         4923\n",
       "dtype: int64"
      ]
     },
     "execution_count": 45,
     "metadata": {},
     "output_type": "execute_result"
    }
   ],
   "source": [
    "# checking for missing values in each column and summing them up\n",
    "train_events.isna().sum()"
   ]
  },
  {
   "cell_type": "code",
   "execution_count": 56,
   "metadata": {},
   "outputs": [
    {
     "data": {
      "image/png": "[encoded data removed]",
      "text/plain": [
       "<Figure size 1600x800 with 1 Axes>"
      ]
     },
     "metadata": {},
     "output_type": "display_data"
    }
   ],
   "source": [
    "import matplotlib.patches as mpatches\n",
    "# Plot the missing values in the 'train_events' DataFrame\n",
    "fig, ax = plt.subplots(figsize=(16, 8))\n",
    "msno.matrix(train_events, sparkline=False, ax=ax, fontsize=11)\n",
    "\n",
    "# Set the background color for data present and missing data\n",
    "ax.set_facecolor('#05163a')  # Data present color\n",
    "ax.patch.set_edgecolor('#05163a')  # Border color\n",
    "ax.grid(False)  # Turn off grid for better visibility\n",
    "\n",
    "# Create legend with blue and white patches\n",
    "blue_patch = mpatches.Patch(color='#05163a', label='Data present')\n",
    "white_patch = mpatches.Patch(color='#FFFFFF', label='Data missing')\n",
    "legend = plt.legend(loc=[1.05, 0.7], handles=[blue_patch, white_patch], fontsize=16, frameon=True, title=\"Legend\")\n",
    "plt.setp(legend.get_title(), fontsize='16')  # Set legend title fontsize\n",
    "\n",
    "plt.show()"
   ]
  },
  {
   "cell_type": "code",
   "execution_count": 57,
   "metadata": {},
   "outputs": [
    {
     "name": "stdout",
     "output_type": "stream",
     "text": [
      "The 'train_events' DataFrame has approx. 34.0% missing data.\n"
     ]
    }
   ],
   "source": [
    "# what's the percentage of missing data? take 'step' column as proxy for all\n",
    "print(f\"The 'train_events' DataFrame has approx. {(round(train_events['step'].isna().sum()/train_events.shape[0],2)*100)}% missing data.\")"
   ]
  },
  {
   "cell_type": "markdown",
   "metadata": {},
   "source": [
    "#### Observations\n",
    "\n",
    "- There are no missing values in the `train_series` file.\n",
    "\n",
    "- In the `train_events` file, there are missing values in the columns 'step', 'timestamp', 'year', 'month', 'day', and 'hour.'\n",
    "    - These columns are directly related to each other, with one step consisting of 5 seconds, and the timestamp recording the beginning of that step.\n",
    "    - The 'year', 'month', 'day', and 'hour' columns were obtained from the timestamp column.\n",
    "    - The missing value counts are the same for these columns, occurring in the same rows for all columns.\n",
    "    - The missing values amount to 34% of the data, indicating a substantial proportion. Deciding how to handle them will be crucial for the model."
   ]
  },
  {
   "cell_type": "code",
   "execution_count": 58,
   "metadata": {},
   "outputs": [
    {
     "name": "stdout",
     "output_type": "stream",
     "text": [
      "The number of unique series (participants) is 277.\n"
     ]
    }
   ],
   "source": [
    "# how many unique series (patients) are there?\n",
    "train_events['series_id'].nunique()\n",
    "print(f\"The number of unique series (participants) is {train_events['series_id'].nunique()}.\")"
   ]
  },
  {
   "cell_type": "code",
   "execution_count": 59,
   "metadata": {},
   "outputs": [
    {
     "data": {
      "text/html": [
       "<div>\n",
       "<style scoped>\n",
       "    .dataframe tbody tr th:only-of-type {\n",
       "        vertical-align: middle;\n",
       "    }\n",
       "\n",
       "    .dataframe tbody tr th {\n",
       "        vertical-align: top;\n",
       "    }\n",
       "\n",
       "    .dataframe thead th {\n",
       "        text-align: right;\n",
       "    }\n",
       "</style>\n",
       "<table border=\"1\" class=\"dataframe\">\n",
       "  <thead>\n",
       "    <tr style=\"text-align: right;\">\n",
       "      <th></th>\n",
       "      <th>percentage_missing_step</th>\n",
       "    </tr>\n",
       "    <tr>\n",
       "      <th>series_id</th>\n",
       "      <th></th>\n",
       "    </tr>\n",
       "  </thead>\n",
       "  <tbody>\n",
       "    <tr>\n",
       "      <th>038441c925bb</th>\n",
       "      <td>17.391304</td>\n",
       "    </tr>\n",
       "    <tr>\n",
       "      <th>03d92c9f6f8a</th>\n",
       "      <td>78.378378</td>\n",
       "    </tr>\n",
       "    <tr>\n",
       "      <th>0402a003dae9</th>\n",
       "      <td>25.000000</td>\n",
       "    </tr>\n",
       "    <tr>\n",
       "      <th>04f547b8017d</th>\n",
       "      <td>43.243243</td>\n",
       "    </tr>\n",
       "    <tr>\n",
       "      <th>05e1944c3818</th>\n",
       "      <td>12.500000</td>\n",
       "    </tr>\n",
       "  </tbody>\n",
       "</table>\n",
       "</div>"
      ],
      "text/plain": [
       "              percentage_missing_step\n",
       "series_id                            \n",
       "038441c925bb                17.391304\n",
       "03d92c9f6f8a                78.378378\n",
       "0402a003dae9                25.000000\n",
       "04f547b8017d                43.243243\n",
       "05e1944c3818                12.500000"
      ]
     },
     "execution_count": 59,
     "metadata": {},
     "output_type": "execute_result"
    }
   ],
   "source": [
    "# create dataframe with percentage of missing values of 'step' for each 'series_id'\n",
    "series_step_nas = train_events.groupby('series_id')['step'].apply(lambda x: x.isna().sum()/len(x)*100).to_frame()\n",
    "series_step_nas.columns = ['percentage_missing_step']\n",
    "series_step_nas.head()"
   ]
  },
  {
   "cell_type": "code",
   "execution_count": 60,
   "metadata": {},
   "outputs": [
    {
     "data": {
      "text/html": [
       "<div>\n",
       "<style scoped>\n",
       "    .dataframe tbody tr th:only-of-type {\n",
       "        vertical-align: middle;\n",
       "    }\n",
       "\n",
       "    .dataframe tbody tr th {\n",
       "        vertical-align: top;\n",
       "    }\n",
       "\n",
       "    .dataframe thead th {\n",
       "        text-align: right;\n",
       "    }\n",
       "</style>\n",
       "<table border=\"1\" class=\"dataframe\">\n",
       "  <thead>\n",
       "    <tr style=\"text-align: right;\">\n",
       "      <th></th>\n",
       "      <th>count</th>\n",
       "      <th>mean</th>\n",
       "      <th>std</th>\n",
       "      <th>min</th>\n",
       "      <th>25%</th>\n",
       "      <th>50%</th>\n",
       "      <th>75%</th>\n",
       "      <th>max</th>\n",
       "    </tr>\n",
       "  </thead>\n",
       "  <tbody>\n",
       "    <tr>\n",
       "      <th>percentage_missing_step</th>\n",
       "      <td>277.0</td>\n",
       "      <td>31.320512</td>\n",
       "      <td>30.386764</td>\n",
       "      <td>0.0</td>\n",
       "      <td>8.333333</td>\n",
       "      <td>19.444444</td>\n",
       "      <td>50.0</td>\n",
       "      <td>100.0</td>\n",
       "    </tr>\n",
       "  </tbody>\n",
       "</table>\n",
       "</div>"
      ],
      "text/plain": [
       "                         count       mean        std  min       25%  \\\n",
       "percentage_missing_step  277.0  31.320512  30.386764  0.0  8.333333   \n",
       "\n",
       "                               50%   75%    max  \n",
       "percentage_missing_step  19.444444  50.0  100.0  "
      ]
     },
     "execution_count": 60,
     "metadata": {},
     "output_type": "execute_result"
    }
   ],
   "source": [
    "# what is the distribution of missing values? (basic stats)\n",
    "series_step_nas.describe().T"
   ]
  },
  {
   "cell_type": "code",
   "execution_count": 61,
   "metadata": {},
   "outputs": [
    {
     "name": "stdout",
     "output_type": "stream",
     "text": [
      "Series with 0% missing values: 37\n",
      "Series with 100% missing values: 8\n"
     ]
    }
   ],
   "source": [
    "# how many series have 0% of missing values? how many have 100%?\n",
    "print(f\"Series with 0% missing values: {series_step_nas[series_step_nas['percentage_missing_step']==0].shape[0]}\")\n",
    "print(f\"Series with 100% missing values: {series_step_nas[series_step_nas['percentage_missing_step']==100].shape[0]}\")"
   ]
  },
  {
   "cell_type": "code",
   "execution_count": 62,
   "metadata": {},
   "outputs": [],
   "source": [
    "# Ensure the directory exists, create it if not\n",
    "output_folder = \"html_files\"\n",
    "os.makedirs(output_folder, exist_ok=True)"
   ]
  },
  {
   "cell_type": "code",
   "execution_count": 66,
   "metadata": {},
   "outputs": [
    {
     "data": {
      "application/vnd.plotly.v1+json": {
       "config": {
        "plotlyServerURL": "https://plot.ly"
       },
       "data": [
        {
         "alignmentgroup": "True",
         "bingroup": "x",
         "hovertemplate": "percentage_missing_step=%{x}<br>count=%{y}<extra></extra>",
         "legendgroup": "",
         "marker": {
          "color": "#05163a",
          "line": {
           "color": "Black",
           "width": 2
          },
          "pattern": {
           "shape": ""
          }
         },
         "name": "",
         "nbinsx": 20,
         "offsetgroup": "",
         "opacity": 0.7,
         "orientation": "v",
         "showlegend": false,
         "type": "histogram",
         "x": [
          17.391304347826086,
          78.37837837837837,
          25,
          43.24324324324324,
          12.5,
          88.46153846153845,
          68.18181818181817,
          0,
          0,
          71.42857142857143,
          10,
          0,
          16.666666666666664,
          16.666666666666664,
          9.090909090909092,
          4.545454545454546,
          28.57142857142857,
          100,
          25,
          0,
          0,
          39.53488372093023,
          5.714285714285714,
          83.33333333333334,
          45.45454545454545,
          20,
          53.125,
          4.6875,
          36.36363636363637,
          10.714285714285714,
          24,
          4.545454545454546,
          19.444444444444446,
          0,
          9.375,
          4.545454545454546,
          14.285714285714285,
          71.42857142857143,
          80.64516129032258,
          54.54545454545454,
          21.73913043478261,
          12.82051282051282,
          77.77777777777779,
          4.545454545454546,
          40,
          28.125,
          0,
          34.78260869565217,
          15.384615384615385,
          14.285714285714285,
          67.64705882352942,
          14.285714285714285,
          10,
          12.5,
          100,
          0,
          8.571428571428571,
          16,
          0,
          0,
          50,
          10,
          0,
          25,
          100,
          66.66666666666666,
          11.76470588235294,
          16.666666666666664,
          82.6086956521739,
          43.47826086956522,
          13.043478260869565,
          52.17391304347826,
          87.5,
          8.695652173913043,
          20,
          4.3478260869565215,
          39.473684210526315,
          48,
          8.695652173913043,
          0,
          9.67741935483871,
          4.166666666666666,
          21.73913043478261,
          13.043478260869565,
          57.14285714285714,
          70.83333333333334,
          3.3333333333333335,
          33.33333333333333,
          19.047619047619047,
          8.695652173913043,
          0,
          38.88888888888889,
          9.090909090909092,
          95.83333333333334,
          0,
          30.434782608695656,
          8.695652173913043,
          62.5,
          19.047619047619047,
          4.545454545454546,
          0,
          5.88235294117647,
          8.823529411764707,
          25,
          40,
          52,
          3.0303030303030303,
          0,
          0,
          35.8974358974359,
          51.42857142857142,
          37.5,
          34.090909090909086,
          17.5,
          8,
          41.66666666666667,
          78.26086956521739,
          27.27272727272727,
          0,
          9.090909090909092,
          79.16666666666666,
          91.66666666666666,
          8.333333333333332,
          4.545454545454546,
          0,
          56.25,
          0,
          85.71428571428571,
          29.166666666666668,
          4.545454545454546,
          13.636363636363635,
          4.166666666666666,
          9.090909090909092,
          33.33333333333333,
          8.695652173913043,
          92.5,
          38.095238095238095,
          4.761904761904762,
          80,
          0,
          100,
          19.444444444444446,
          4.166666666666666,
          26.47058823529412,
          75,
          43.47826086956522,
          0,
          68.57142857142857,
          4.3478260869565215,
          50,
          51.28205128205128,
          4.166666666666666,
          82.6086956521739,
          13.043478260869565,
          0,
          32,
          4.166666666666666,
          25,
          27.77777777777778,
          9.090909090909092,
          18.181818181818183,
          13.636363636363635,
          12.5,
          0,
          18.181818181818183,
          60.86956521739131,
          47.82608695652174,
          95.65217391304348,
          100,
          8.695652173913043,
          0,
          20.833333333333336,
          8.333333333333332,
          72.72727272727273,
          0,
          0,
          30.434782608695656,
          32.142857142857146,
          95,
          0,
          13.793103448275861,
          0,
          8.333333333333332,
          13.333333333333334,
          41.86046511627907,
          34.78260869565217,
          91.17647058823529,
          70.83333333333334,
          80,
          48,
          9.090909090909092,
          4.545454545454546,
          25.64102564102564,
          12.5,
          4.3478260869565215,
          97.67441860465115,
          27.500000000000004,
          60.86956521739131,
          11.76470588235294,
          0,
          95.23809523809523,
          100,
          0,
          0,
          17.857142857142858,
          100,
          16,
          60.86956521739131,
          43.47826086956522,
          30.434782608695656,
          0,
          16.666666666666664,
          22.727272727272727,
          36.36363636363637,
          91.8918918918919,
          8.333333333333332,
          97.2972972972973,
          80.85106382978722,
          25.581395348837212,
          13.513513513513514,
          0,
          0,
          25,
          37.5,
          48.275862068965516,
          0,
          78.26086956521739,
          0,
          20,
          4.3478260869565215,
          54.166666666666664,
          67.56756756756756,
          16,
          11.538461538461538,
          9.67741935483871,
          15.789473684210526,
          9.523809523809524,
          25.806451612903224,
          17.391304347826086,
          34.61538461538461,
          17.94871794871795,
          9.090909090909092,
          100,
          28.000000000000004,
          7.6923076923076925,
          42.30769230769231,
          8.695652173913043,
          82.85714285714286,
          50,
          87.5,
          8.108108108108109,
          9.523809523809524,
          75,
          34.78260869565217,
          3.0303030303030303,
          21.73913043478261,
          55.81395348837209,
          20.833333333333336,
          35.483870967741936,
          40,
          16,
          40.74074074074074,
          81.25,
          66.66666666666666,
          35.483870967741936,
          91.93548387096774,
          76,
          4.545454545454546,
          4.3478260869565215,
          16.666666666666664,
          6.521739130434782,
          91.30434782608695,
          33.33333333333333,
          90.56603773584906,
          16.666666666666664,
          2.7777777777777777,
          5.714285714285714
         ],
         "xaxis": "x",
         "yaxis": "y"
        },
        {
         "alignmentgroup": "True",
         "hovertemplate": "percentage_missing_step=%{x}<extra></extra>",
         "legendgroup": "",
         "marker": {
          "color": "#05163a",
          "line": {
           "color": "Black",
           "width": 2
          }
         },
         "name": "",
         "notched": true,
         "offsetgroup": "",
         "opacity": 0.7,
         "showlegend": false,
         "type": "box",
         "x": [
          17.391304347826086,
          78.37837837837837,
          25,
          43.24324324324324,
          12.5,
          88.46153846153845,
          68.18181818181817,
          0,
          0,
          71.42857142857143,
          10,
          0,
          16.666666666666664,
          16.666666666666664,
          9.090909090909092,
          4.545454545454546,
          28.57142857142857,
          100,
          25,
          0,
          0,
          39.53488372093023,
          5.714285714285714,
          83.33333333333334,
          45.45454545454545,
          20,
          53.125,
          4.6875,
          36.36363636363637,
          10.714285714285714,
          24,
          4.545454545454546,
          19.444444444444446,
          0,
          9.375,
          4.545454545454546,
          14.285714285714285,
          71.42857142857143,
          80.64516129032258,
          54.54545454545454,
          21.73913043478261,
          12.82051282051282,
          77.77777777777779,
          4.545454545454546,
          40,
          28.125,
          0,
          34.78260869565217,
          15.384615384615385,
          14.285714285714285,
          67.64705882352942,
          14.285714285714285,
          10,
          12.5,
          100,
          0,
          8.571428571428571,
          16,
          0,
          0,
          50,
          10,
          0,
          25,
          100,
          66.66666666666666,
          11.76470588235294,
          16.666666666666664,
          82.6086956521739,
          43.47826086956522,
          13.043478260869565,
          52.17391304347826,
          87.5,
          8.695652173913043,
          20,
          4.3478260869565215,
          39.473684210526315,
          48,
          8.695652173913043,
          0,
          9.67741935483871,
          4.166666666666666,
          21.73913043478261,
          13.043478260869565,
          57.14285714285714,
          70.83333333333334,
          3.3333333333333335,
          33.33333333333333,
          19.047619047619047,
          8.695652173913043,
          0,
          38.88888888888889,
          9.090909090909092,
          95.83333333333334,
          0,
          30.434782608695656,
          8.695652173913043,
          62.5,
          19.047619047619047,
          4.545454545454546,
          0,
          5.88235294117647,
          8.823529411764707,
          25,
          40,
          52,
          3.0303030303030303,
          0,
          0,
          35.8974358974359,
          51.42857142857142,
          37.5,
          34.090909090909086,
          17.5,
          8,
          41.66666666666667,
          78.26086956521739,
          27.27272727272727,
          0,
          9.090909090909092,
          79.16666666666666,
          91.66666666666666,
          8.333333333333332,
          4.545454545454546,
          0,
          56.25,
          0,
          85.71428571428571,
          29.166666666666668,
          4.545454545454546,
          13.636363636363635,
          4.166666666666666,
          9.090909090909092,
          33.33333333333333,
          8.695652173913043,
          92.5,
          38.095238095238095,
          4.761904761904762,
          80,
          0,
          100,
          19.444444444444446,
          4.166666666666666,
          26.47058823529412,
          75,
          43.47826086956522,
          0,
          68.57142857142857,
          4.3478260869565215,
          50,
          51.28205128205128,
          4.166666666666666,
          82.6086956521739,
          13.043478260869565,
          0,
          32,
          4.166666666666666,
          25,
          27.77777777777778,
          9.090909090909092,
          18.181818181818183,
          13.636363636363635,
          12.5,
          0,
          18.181818181818183,
          60.86956521739131,
          47.82608695652174,
          95.65217391304348,
          100,
          8.695652173913043,
          0,
          20.833333333333336,
          8.333333333333332,
          72.72727272727273,
          0,
          0,
          30.434782608695656,
          32.142857142857146,
          95,
          0,
          13.793103448275861,
          0,
          8.333333333333332,
          13.333333333333334,
          41.86046511627907,
          34.78260869565217,
          91.17647058823529,
          70.83333333333334,
          80,
          48,
          9.090909090909092,
          4.545454545454546,
          25.64102564102564,
          12.5,
          4.3478260869565215,
          97.67441860465115,
          27.500000000000004,
          60.86956521739131,
          11.76470588235294,
          0,
          95.23809523809523,
          100,
          0,
          0,
          17.857142857142858,
          100,
          16,
          60.86956521739131,
          43.47826086956522,
          30.434782608695656,
          0,
          16.666666666666664,
          22.727272727272727,
          36.36363636363637,
          91.8918918918919,
          8.333333333333332,
          97.2972972972973,
          80.85106382978722,
          25.581395348837212,
          13.513513513513514,
          0,
          0,
          25,
          37.5,
          48.275862068965516,
          0,
          78.26086956521739,
          0,
          20,
          4.3478260869565215,
          54.166666666666664,
          67.56756756756756,
          16,
          11.538461538461538,
          9.67741935483871,
          15.789473684210526,
          9.523809523809524,
          25.806451612903224,
          17.391304347826086,
          34.61538461538461,
          17.94871794871795,
          9.090909090909092,
          100,
          28.000000000000004,
          7.6923076923076925,
          42.30769230769231,
          8.695652173913043,
          82.85714285714286,
          50,
          87.5,
          8.108108108108109,
          9.523809523809524,
          75,
          34.78260869565217,
          3.0303030303030303,
          21.73913043478261,
          55.81395348837209,
          20.833333333333336,
          35.483870967741936,
          40,
          16,
          40.74074074074074,
          81.25,
          66.66666666666666,
          35.483870967741936,
          91.93548387096774,
          76,
          4.545454545454546,
          4.3478260869565215,
          16.666666666666664,
          6.521739130434782,
          91.30434782608695,
          33.33333333333333,
          90.56603773584906,
          16.666666666666664,
          2.7777777777777777,
          5.714285714285714
         ],
         "xaxis": "x2",
         "yaxis": "y2"
        }
       ],
       "layout": {
        "autosize": true,
        "barmode": "relative",
        "legend": {
         "tracegroupgap": 0
        },
        "margin": {
         "t": 60
        },
        "template": {
         "data": {
          "bar": [
           {
            "error_x": {
             "color": "#2a3f5f"
            },
            "error_y": {
             "color": "#2a3f5f"
            },
            "marker": {
             "line": {
              "color": "#E5ECF6",
              "width": 0.5
             },
             "pattern": {
              "fillmode": "overlay",
              "size": 10,
              "solidity": 0.2
             }
            },
            "type": "bar"
           }
          ],
          "barpolar": [
           {
            "marker": {
             "line": {
              "color": "#E5ECF6",
              "width": 0.5
             },
             "pattern": {
              "fillmode": "overlay",
              "size": 10,
              "solidity": 0.2
             }
            },
            "type": "barpolar"
           }
          ],
          "carpet": [
           {
            "aaxis": {
             "endlinecolor": "#2a3f5f",
             "gridcolor": "white",
             "linecolor": "white",
             "minorgridcolor": "white",
             "startlinecolor": "#2a3f5f"
            },
            "baxis": {
             "endlinecolor": "#2a3f5f",
             "gridcolor": "white",
             "linecolor": "white",
             "minorgridcolor": "white",
             "startlinecolor": "#2a3f5f"
            },
            "type": "carpet"
           }
          ],
          "choropleth": [
           {
            "colorbar": {
             "outlinewidth": 0,
             "ticks": ""
            },
            "type": "choropleth"
           }
          ],
          "contour": [
           {
            "colorbar": {
             "outlinewidth": 0,
             "ticks": ""
            },
            "colorscale": [
             [
              0,
              "#0d0887"
             ],
             [
              0.1111111111111111,
              "#46039f"
             ],
             [
              0.2222222222222222,
              "#7201a8"
             ],
             [
              0.3333333333333333,
              "#9c179e"
             ],
             [
              0.4444444444444444,
              "#bd3786"
             ],
             [
              0.5555555555555556,
              "#d8576b"
             ],
             [
              0.6666666666666666,
              "#ed7953"
             ],
             [
              0.7777777777777778,
              "#fb9f3a"
             ],
             [
              0.8888888888888888,
              "#fdca26"
             ],
             [
              1,
              "#f0f921"
             ]
            ],
            "type": "contour"
           }
          ],
          "contourcarpet": [
           {
            "colorbar": {
             "outlinewidth": 0,
             "ticks": ""
            },
            "type": "contourcarpet"
           }
          ],
          "heatmap": [
           {
            "colorbar": {
             "outlinewidth": 0,
             "ticks": ""
            },
            "colorscale": [
             [
              0,
              "#0d0887"
             ],
             [
              0.1111111111111111,
              "#46039f"
             ],
             [
              0.2222222222222222,
              "#7201a8"
             ],
             [
              0.3333333333333333,
              "#9c179e"
             ],
             [
              0.4444444444444444,
              "#bd3786"
             ],
             [
              0.5555555555555556,
              "#d8576b"
             ],
             [
              0.6666666666666666,
              "#ed7953"
             ],
             [
              0.7777777777777778,
              "#fb9f3a"
             ],
             [
              0.8888888888888888,
              "#fdca26"
             ],
             [
              1,
              "#f0f921"
             ]
            ],
            "type": "heatmap"
           }
          ],
          "heatmapgl": [
           {
            "colorbar": {
             "outlinewidth": 0,
             "ticks": ""
            },
            "colorscale": [
             [
              0,
              "#0d0887"
             ],
             [
              0.1111111111111111,
              "#46039f"
             ],
             [
              0.2222222222222222,
              "#7201a8"
             ],
             [
              0.3333333333333333,
              "#9c179e"
             ],
             [
              0.4444444444444444,
              "#bd3786"
             ],
             [
              0.5555555555555556,
              "#d8576b"
             ],
             [
              0.6666666666666666,
              "#ed7953"
             ],
             [
              0.7777777777777778,
              "#fb9f3a"
             ],
             [
              0.8888888888888888,
              "#fdca26"
             ],
             [
              1,
              "#f0f921"
             ]
            ],
            "type": "heatmapgl"
           }
          ],
          "histogram": [
           {
            "marker": {
             "pattern": {
              "fillmode": "overlay",
              "size": 10,
              "solidity": 0.2
             }
            },
            "type": "histogram"
           }
          ],
          "histogram2d": [
           {
            "colorbar": {
             "outlinewidth": 0,
             "ticks": ""
            },
            "colorscale": [
             [
              0,
              "#0d0887"
             ],
             [
              0.1111111111111111,
              "#46039f"
             ],
             [
              0.2222222222222222,
              "#7201a8"
             ],
             [
              0.3333333333333333,
              "#9c179e"
             ],
             [
              0.4444444444444444,
              "#bd3786"
             ],
             [
              0.5555555555555556,
              "#d8576b"
             ],
             [
              0.6666666666666666,
              "#ed7953"
             ],
             [
              0.7777777777777778,
              "#fb9f3a"
             ],
             [
              0.8888888888888888,
              "#fdca26"
             ],
             [
              1,
              "#f0f921"
             ]
            ],
            "type": "histogram2d"
           }
          ],
          "histogram2dcontour": [
           {
            "colorbar": {
             "outlinewidth": 0,
             "ticks": ""
            },
            "colorscale": [
             [
              0,
              "#0d0887"
             ],
             [
              0.1111111111111111,
              "#46039f"
             ],
             [
              0.2222222222222222,
              "#7201a8"
             ],
             [
              0.3333333333333333,
              "#9c179e"
             ],
             [
              0.4444444444444444,
              "#bd3786"
             ],
             [
              0.5555555555555556,
              "#d8576b"
             ],
             [
              0.6666666666666666,
              "#ed7953"
             ],
             [
              0.7777777777777778,
              "#fb9f3a"
             ],
             [
              0.8888888888888888,
              "#fdca26"
             ],
             [
              1,
              "#f0f921"
             ]
            ],
            "type": "histogram2dcontour"
           }
          ],
          "mesh3d": [
           {
            "colorbar": {
             "outlinewidth": 0,
             "ticks": ""
            },
            "type": "mesh3d"
           }
          ],
          "parcoords": [
           {
            "line": {
             "colorbar": {
              "outlinewidth": 0,
              "ticks": ""
             }
            },
            "type": "parcoords"
           }
          ],
          "pie": [
           {
            "automargin": true,
            "type": "pie"
           }
          ],
          "scatter": [
           {
            "fillpattern": {
             "fillmode": "overlay",
             "size": 10,
             "solidity": 0.2
            },
            "type": "scatter"
           }
          ],
          "scatter3d": [
           {
            "line": {
             "colorbar": {
              "outlinewidth": 0,
              "ticks": ""
             }
            },
            "marker": {
             "colorbar": {
              "outlinewidth": 0,
              "ticks": ""
             }
            },
            "type": "scatter3d"
           }
          ],
          "scattercarpet": [
           {
            "marker": {
             "colorbar": {
              "outlinewidth": 0,
              "ticks": ""
             }
            },
            "type": "scattercarpet"
           }
          ],
          "scattergeo": [
           {
            "marker": {
             "colorbar": {
              "outlinewidth": 0,
              "ticks": ""
             }
            },
            "type": "scattergeo"
           }
          ],
          "scattergl": [
           {
            "marker": {
             "colorbar": {
              "outlinewidth": 0,
              "ticks": ""
             }
            },
            "type": "scattergl"
           }
          ],
          "scattermapbox": [
           {
            "marker": {
             "colorbar": {
              "outlinewidth": 0,
              "ticks": ""
             }
            },
            "type": "scattermapbox"
           }
          ],
          "scatterpolar": [
           {
            "marker": {
             "colorbar": {
              "outlinewidth": 0,
              "ticks": ""
             }
            },
            "type": "scatterpolar"
           }
          ],
          "scatterpolargl": [
           {
            "marker": {
             "colorbar": {
              "outlinewidth": 0,
              "ticks": ""
             }
            },
            "type": "scatterpolargl"
           }
          ],
          "scatterternary": [
           {
            "marker": {
             "colorbar": {
              "outlinewidth": 0,
              "ticks": ""
             }
            },
            "type": "scatterternary"
           }
          ],
          "surface": [
           {
            "colorbar": {
             "outlinewidth": 0,
             "ticks": ""
            },
            "colorscale": [
             [
              0,
              "#0d0887"
             ],
             [
              0.1111111111111111,
              "#46039f"
             ],
             [
              0.2222222222222222,
              "#7201a8"
             ],
             [
              0.3333333333333333,
              "#9c179e"
             ],
             [
              0.4444444444444444,
              "#bd3786"
             ],
             [
              0.5555555555555556,
              "#d8576b"
             ],
             [
              0.6666666666666666,
              "#ed7953"
             ],
             [
              0.7777777777777778,
              "#fb9f3a"
             ],
             [
              0.8888888888888888,
              "#fdca26"
             ],
             [
              1,
              "#f0f921"
             ]
            ],
            "type": "surface"
           }
          ],
          "table": [
           {
            "cells": {
             "fill": {
              "color": "#EBF0F8"
             },
             "line": {
              "color": "white"
             }
            },
            "header": {
             "fill": {
              "color": "#C8D4E3"
             },
             "line": {
              "color": "white"
             }
            },
            "type": "table"
           }
          ]
         },
         "layout": {
          "annotationdefaults": {
           "arrowcolor": "#2a3f5f",
           "arrowhead": 0,
           "arrowwidth": 1
          },
          "autotypenumbers": "strict",
          "coloraxis": {
           "colorbar": {
            "outlinewidth": 0,
            "ticks": ""
           }
          },
          "colorscale": {
           "diverging": [
            [
             0,
             "#8e0152"
            ],
            [
             0.1,
             "#c51b7d"
            ],
            [
             0.2,
             "#de77ae"
            ],
            [
             0.3,
             "#f1b6da"
            ],
            [
             0.4,
             "#fde0ef"
            ],
            [
             0.5,
             "#f7f7f7"
            ],
            [
             0.6,
             "#e6f5d0"
            ],
            [
             0.7,
             "#b8e186"
            ],
            [
             0.8,
             "#7fbc41"
            ],
            [
             0.9,
             "#4d9221"
            ],
            [
             1,
             "#276419"
            ]
           ],
           "sequential": [
            [
             0,
             "#0d0887"
            ],
            [
             0.1111111111111111,
             "#46039f"
            ],
            [
             0.2222222222222222,
             "#7201a8"
            ],
            [
             0.3333333333333333,
             "#9c179e"
            ],
            [
             0.4444444444444444,
             "#bd3786"
            ],
            [
             0.5555555555555556,
             "#d8576b"
            ],
            [
             0.6666666666666666,
             "#ed7953"
            ],
            [
             0.7777777777777778,
             "#fb9f3a"
            ],
            [
             0.8888888888888888,
             "#fdca26"
            ],
            [
             1,
             "#f0f921"
            ]
           ],
           "sequentialminus": [
            [
             0,
             "#0d0887"
            ],
            [
             0.1111111111111111,
             "#46039f"
            ],
            [
             0.2222222222222222,
             "#7201a8"
            ],
            [
             0.3333333333333333,
             "#9c179e"
            ],
            [
             0.4444444444444444,
             "#bd3786"
            ],
            [
             0.5555555555555556,
             "#d8576b"
            ],
            [
             0.6666666666666666,
             "#ed7953"
            ],
            [
             0.7777777777777778,
             "#fb9f3a"
            ],
            [
             0.8888888888888888,
             "#fdca26"
            ],
            [
             1,
             "#f0f921"
            ]
           ]
          },
          "colorway": [
           "#636efa",
           "#EF553B",
           "#00cc96",
           "#ab63fa",
           "#FFA15A",
           "#19d3f3",
           "#FF6692",
           "#B6E880",
           "#FF97FF",
           "#FECB52"
          ],
          "font": {
           "color": "#2a3f5f"
          },
          "geo": {
           "bgcolor": "white",
           "lakecolor": "white",
           "landcolor": "#E5ECF6",
           "showlakes": true,
           "showland": true,
           "subunitcolor": "white"
          },
          "hoverlabel": {
           "align": "left"
          },
          "hovermode": "closest",
          "mapbox": {
           "style": "light"
          },
          "paper_bgcolor": "white",
          "plot_bgcolor": "#E5ECF6",
          "polar": {
           "angularaxis": {
            "gridcolor": "white",
            "linecolor": "white",
            "ticks": ""
           },
           "bgcolor": "#E5ECF6",
           "radialaxis": {
            "gridcolor": "white",
            "linecolor": "white",
            "ticks": ""
           }
          },
          "scene": {
           "xaxis": {
            "backgroundcolor": "#E5ECF6",
            "gridcolor": "white",
            "gridwidth": 2,
            "linecolor": "white",
            "showbackground": true,
            "ticks": "",
            "zerolinecolor": "white"
           },
           "yaxis": {
            "backgroundcolor": "#E5ECF6",
            "gridcolor": "white",
            "gridwidth": 2,
            "linecolor": "white",
            "showbackground": true,
            "ticks": "",
            "zerolinecolor": "white"
           },
           "zaxis": {
            "backgroundcolor": "#E5ECF6",
            "gridcolor": "white",
            "gridwidth": 2,
            "linecolor": "white",
            "showbackground": true,
            "ticks": "",
            "zerolinecolor": "white"
           }
          },
          "shapedefaults": {
           "line": {
            "color": "#2a3f5f"
           }
          },
          "ternary": {
           "aaxis": {
            "gridcolor": "white",
            "linecolor": "white",
            "ticks": ""
           },
           "baxis": {
            "gridcolor": "white",
            "linecolor": "white",
            "ticks": ""
           },
           "bgcolor": "#E5ECF6",
           "caxis": {
            "gridcolor": "white",
            "linecolor": "white",
            "ticks": ""
           }
          },
          "title": {
           "x": 0.05
          },
          "xaxis": {
           "automargin": true,
           "gridcolor": "white",
           "linecolor": "white",
           "ticks": "",
           "title": {
            "standoff": 15
           },
           "zerolinecolor": "white",
           "zerolinewidth": 2
          },
          "yaxis": {
           "automargin": true,
           "gridcolor": "white",
           "linecolor": "white",
           "ticks": "",
           "title": {
            "standoff": 15
           },
           "zerolinecolor": "white",
           "zerolinewidth": 2
          }
         }
        },
        "title": {
         "text": "Distribution of missing values per series"
        },
        "xaxis": {
         "anchor": "y",
         "autorange": true,
         "domain": [
          0,
          1
         ],
         "range": [
          -5.555555555555555,
          105.55555555555556
         ],
         "title": {
          "text": "Percentage of missing values in 'step'"
         },
         "type": "linear"
        },
        "xaxis2": {
         "anchor": "y2",
         "autorange": true,
         "domain": [
          0,
          1
         ],
         "matches": "x",
         "range": [
          -5.555555555555555,
          105.55555555555556
         ],
         "showgrid": true,
         "showticklabels": false,
         "type": "linear"
        },
        "yaxis": {
         "anchor": "x",
         "autorange": true,
         "domain": [
          0,
          0.8316
         ],
         "range": [
          0,
          65.26315789473685
         ],
         "title": {
          "text": "Count of series"
         }
        },
        "yaxis2": {
         "anchor": "x2",
         "autorange": true,
         "domain": [
          0.8416,
          1
         ],
         "matches": "y2",
         "range": [
          -0.5,
          0.5
         ],
         "showgrid": false,
         "showline": false,
         "showticklabels": false,
         "ticks": "",
         "type": "category"
        }
       }
      },
      "image/png": "[encoded data removed]",
      "text/html": [
       "<div>                            <div id=\"d872b1a9-e9cf-4ed4-8328-5638196dc563\" class=\"plotly-graph-div\" style=\"height:525px; width:100%;\"></div>            <script type=\"text/javascript\">                require([\"plotly\"], function(Plotly) {                    window.PLOTLYENV=window.PLOTLYENV || {};                                    if (document.getElementById(\"d872b1a9-e9cf-4ed4-8328-5638196dc563\")) {                    Plotly.newPlot(                        \"d872b1a9-e9cf-4ed4-8328-5638196dc563\",                        [{\"alignmentgroup\":\"True\",\"bingroup\":\"x\",\"hovertemplate\":\"percentage_missing_step=%{x}\\u003cbr\\u003ecount=%{y}\\u003cextra\\u003e\\u003c\\u002fextra\\u003e\",\"legendgroup\":\"\",\"marker\":{\"color\":\"#05163a\",\"pattern\":{\"shape\":\"\"},\"line\":{\"color\":\"Black\",\"width\":2}},\"name\":\"\",\"nbinsx\":20,\"offsetgroup\":\"\",\"orientation\":\"v\",\"showlegend\":false,\"x\":[17.391304347826086,78.37837837837837,25.0,43.24324324324324,12.5,88.46153846153845,68.18181818181817,0.0,0.0,71.42857142857143,10.0,0.0,16.666666666666664,16.666666666666664,9.090909090909092,4.545454545454546,28.57142857142857,100.0,25.0,0.0,0.0,39.53488372093023,5.714285714285714,83.33333333333334,45.45454545454545,20.0,53.125,4.6875,36.36363636363637,10.714285714285714,24.0,4.545454545454546,19.444444444444446,0.0,9.375,4.545454545454546,14.285714285714285,71.42857142857143,80.64516129032258,54.54545454545454,21.73913043478261,12.82051282051282,77.77777777777779,4.545454545454546,40.0,28.125,0.0,34.78260869565217,15.384615384615385,14.285714285714285,67.64705882352942,14.285714285714285,10.0,12.5,100.0,0.0,8.571428571428571,16.0,0.0,0.0,50.0,10.0,0.0,25.0,100.0,66.66666666666666,11.76470588235294,16.666666666666664,82.6086956521739,43.47826086956522,13.043478260869565,52.17391304347826,87.5,8.695652173913043,20.0,4.3478260869565215,39.473684210526315,48.0,8.695652173913043,0.0,9.67741935483871,4.166666666666666,21.73913043478261,13.043478260869565,57.14285714285714,70.83333333333334,3.3333333333333335,33.33333333333333,19.047619047619047,8.695652173913043,0.0,38.88888888888889,9.090909090909092,95.83333333333334,0.0,30.434782608695656,8.695652173913043,62.5,19.047619047619047,4.545454545454546,0.0,5.88235294117647,8.823529411764707,25.0,40.0,52.0,3.0303030303030303,0.0,0.0,35.8974358974359,51.42857142857142,37.5,34.090909090909086,17.5,8.0,41.66666666666667,78.26086956521739,27.27272727272727,0.0,9.090909090909092,79.16666666666666,91.66666666666666,8.333333333333332,4.545454545454546,0.0,56.25,0.0,85.71428571428571,29.166666666666668,4.545454545454546,13.636363636363635,4.166666666666666,9.090909090909092,33.33333333333333,8.695652173913043,92.5,38.095238095238095,4.761904761904762,80.0,0.0,100.0,19.444444444444446,4.166666666666666,26.47058823529412,75.0,43.47826086956522,0.0,68.57142857142857,4.3478260869565215,50.0,51.28205128205128,4.166666666666666,82.6086956521739,13.043478260869565,0.0,32.0,4.166666666666666,25.0,27.77777777777778,9.090909090909092,18.181818181818183,13.636363636363635,12.5,0.0,18.181818181818183,60.86956521739131,47.82608695652174,95.65217391304348,100.0,8.695652173913043,0.0,20.833333333333336,8.333333333333332,72.72727272727273,0.0,0.0,30.434782608695656,32.142857142857146,95.0,0.0,13.793103448275861,0.0,8.333333333333332,13.333333333333334,41.86046511627907,34.78260869565217,91.17647058823529,70.83333333333334,80.0,48.0,9.090909090909092,4.545454545454546,25.64102564102564,12.5,4.3478260869565215,97.67441860465115,27.500000000000004,60.86956521739131,11.76470588235294,0.0,95.23809523809523,100.0,0.0,0.0,17.857142857142858,100.0,16.0,60.86956521739131,43.47826086956522,30.434782608695656,0.0,16.666666666666664,22.727272727272727,36.36363636363637,91.8918918918919,8.333333333333332,97.2972972972973,80.85106382978722,25.581395348837212,13.513513513513514,0.0,0.0,25.0,37.5,48.275862068965516,0.0,78.26086956521739,0.0,20.0,4.3478260869565215,54.166666666666664,67.56756756756756,16.0,11.538461538461538,9.67741935483871,15.789473684210526,9.523809523809524,25.806451612903224,17.391304347826086,34.61538461538461,17.94871794871795,9.090909090909092,100.0,28.000000000000004,7.6923076923076925,42.30769230769231,8.695652173913043,82.85714285714286,50.0,87.5,8.108108108108109,9.523809523809524,75.0,34.78260869565217,3.0303030303030303,21.73913043478261,55.81395348837209,20.833333333333336,35.483870967741936,40.0,16.0,40.74074074074074,81.25,66.66666666666666,35.483870967741936,91.93548387096774,76.0,4.545454545454546,4.3478260869565215,16.666666666666664,6.521739130434782,91.30434782608695,33.33333333333333,90.56603773584906,16.666666666666664,2.7777777777777777,5.714285714285714],\"xaxis\":\"x\",\"yaxis\":\"y\",\"type\":\"histogram\",\"opacity\":0.7},{\"alignmentgroup\":\"True\",\"hovertemplate\":\"percentage_missing_step=%{x}\\u003cextra\\u003e\\u003c\\u002fextra\\u003e\",\"legendgroup\":\"\",\"marker\":{\"color\":\"#05163a\",\"line\":{\"color\":\"Black\",\"width\":2}},\"name\":\"\",\"notched\":true,\"offsetgroup\":\"\",\"showlegend\":false,\"x\":[17.391304347826086,78.37837837837837,25.0,43.24324324324324,12.5,88.46153846153845,68.18181818181817,0.0,0.0,71.42857142857143,10.0,0.0,16.666666666666664,16.666666666666664,9.090909090909092,4.545454545454546,28.57142857142857,100.0,25.0,0.0,0.0,39.53488372093023,5.714285714285714,83.33333333333334,45.45454545454545,20.0,53.125,4.6875,36.36363636363637,10.714285714285714,24.0,4.545454545454546,19.444444444444446,0.0,9.375,4.545454545454546,14.285714285714285,71.42857142857143,80.64516129032258,54.54545454545454,21.73913043478261,12.82051282051282,77.77777777777779,4.545454545454546,40.0,28.125,0.0,34.78260869565217,15.384615384615385,14.285714285714285,67.64705882352942,14.285714285714285,10.0,12.5,100.0,0.0,8.571428571428571,16.0,0.0,0.0,50.0,10.0,0.0,25.0,100.0,66.66666666666666,11.76470588235294,16.666666666666664,82.6086956521739,43.47826086956522,13.043478260869565,52.17391304347826,87.5,8.695652173913043,20.0,4.3478260869565215,39.473684210526315,48.0,8.695652173913043,0.0,9.67741935483871,4.166666666666666,21.73913043478261,13.043478260869565,57.14285714285714,70.83333333333334,3.3333333333333335,33.33333333333333,19.047619047619047,8.695652173913043,0.0,38.88888888888889,9.090909090909092,95.83333333333334,0.0,30.434782608695656,8.695652173913043,62.5,19.047619047619047,4.545454545454546,0.0,5.88235294117647,8.823529411764707,25.0,40.0,52.0,3.0303030303030303,0.0,0.0,35.8974358974359,51.42857142857142,37.5,34.090909090909086,17.5,8.0,41.66666666666667,78.26086956521739,27.27272727272727,0.0,9.090909090909092,79.16666666666666,91.66666666666666,8.333333333333332,4.545454545454546,0.0,56.25,0.0,85.71428571428571,29.166666666666668,4.545454545454546,13.636363636363635,4.166666666666666,9.090909090909092,33.33333333333333,8.695652173913043,92.5,38.095238095238095,4.761904761904762,80.0,0.0,100.0,19.444444444444446,4.166666666666666,26.47058823529412,75.0,43.47826086956522,0.0,68.57142857142857,4.3478260869565215,50.0,51.28205128205128,4.166666666666666,82.6086956521739,13.043478260869565,0.0,32.0,4.166666666666666,25.0,27.77777777777778,9.090909090909092,18.181818181818183,13.636363636363635,12.5,0.0,18.181818181818183,60.86956521739131,47.82608695652174,95.65217391304348,100.0,8.695652173913043,0.0,20.833333333333336,8.333333333333332,72.72727272727273,0.0,0.0,30.434782608695656,32.142857142857146,95.0,0.0,13.793103448275861,0.0,8.333333333333332,13.333333333333334,41.86046511627907,34.78260869565217,91.17647058823529,70.83333333333334,80.0,48.0,9.090909090909092,4.545454545454546,25.64102564102564,12.5,4.3478260869565215,97.67441860465115,27.500000000000004,60.86956521739131,11.76470588235294,0.0,95.23809523809523,100.0,0.0,0.0,17.857142857142858,100.0,16.0,60.86956521739131,43.47826086956522,30.434782608695656,0.0,16.666666666666664,22.727272727272727,36.36363636363637,91.8918918918919,8.333333333333332,97.2972972972973,80.85106382978722,25.581395348837212,13.513513513513514,0.0,0.0,25.0,37.5,48.275862068965516,0.0,78.26086956521739,0.0,20.0,4.3478260869565215,54.166666666666664,67.56756756756756,16.0,11.538461538461538,9.67741935483871,15.789473684210526,9.523809523809524,25.806451612903224,17.391304347826086,34.61538461538461,17.94871794871795,9.090909090909092,100.0,28.000000000000004,7.6923076923076925,42.30769230769231,8.695652173913043,82.85714285714286,50.0,87.5,8.108108108108109,9.523809523809524,75.0,34.78260869565217,3.0303030303030303,21.73913043478261,55.81395348837209,20.833333333333336,35.483870967741936,40.0,16.0,40.74074074074074,81.25,66.66666666666666,35.483870967741936,91.93548387096774,76.0,4.545454545454546,4.3478260869565215,16.666666666666664,6.521739130434782,91.30434782608695,33.33333333333333,90.56603773584906,16.666666666666664,2.7777777777777777,5.714285714285714],\"xaxis\":\"x2\",\"yaxis\":\"y2\",\"type\":\"box\",\"opacity\":0.7}],                        {\"template\":{\"data\":{\"histogram2dcontour\":[{\"type\":\"histogram2dcontour\",\"colorbar\":{\"outlinewidth\":0,\"ticks\":\"\"},\"colorscale\":[[0.0,\"#0d0887\"],[0.1111111111111111,\"#46039f\"],[0.2222222222222222,\"#7201a8\"],[0.3333333333333333,\"#9c179e\"],[0.4444444444444444,\"#bd3786\"],[0.5555555555555556,\"#d8576b\"],[0.6666666666666666,\"#ed7953\"],[0.7777777777777778,\"#fb9f3a\"],[0.8888888888888888,\"#fdca26\"],[1.0,\"#f0f921\"]]}],\"choropleth\":[{\"type\":\"choropleth\",\"colorbar\":{\"outlinewidth\":0,\"ticks\":\"\"}}],\"histogram2d\":[{\"type\":\"histogram2d\",\"colorbar\":{\"outlinewidth\":0,\"ticks\":\"\"},\"colorscale\":[[0.0,\"#0d0887\"],[0.1111111111111111,\"#46039f\"],[0.2222222222222222,\"#7201a8\"],[0.3333333333333333,\"#9c179e\"],[0.4444444444444444,\"#bd3786\"],[0.5555555555555556,\"#d8576b\"],[0.6666666666666666,\"#ed7953\"],[0.7777777777777778,\"#fb9f3a\"],[0.8888888888888888,\"#fdca26\"],[1.0,\"#f0f921\"]]}],\"heatmap\":[{\"type\":\"heatmap\",\"colorbar\":{\"outlinewidth\":0,\"ticks\":\"\"},\"colorscale\":[[0.0,\"#0d0887\"],[0.1111111111111111,\"#46039f\"],[0.2222222222222222,\"#7201a8\"],[0.3333333333333333,\"#9c179e\"],[0.4444444444444444,\"#bd3786\"],[0.5555555555555556,\"#d8576b\"],[0.6666666666666666,\"#ed7953\"],[0.7777777777777778,\"#fb9f3a\"],[0.8888888888888888,\"#fdca26\"],[1.0,\"#f0f921\"]]}],\"heatmapgl\":[{\"type\":\"heatmapgl\",\"colorbar\":{\"outlinewidth\":0,\"ticks\":\"\"},\"colorscale\":[[0.0,\"#0d0887\"],[0.1111111111111111,\"#46039f\"],[0.2222222222222222,\"#7201a8\"],[0.3333333333333333,\"#9c179e\"],[0.4444444444444444,\"#bd3786\"],[0.5555555555555556,\"#d8576b\"],[0.6666666666666666,\"#ed7953\"],[0.7777777777777778,\"#fb9f3a\"],[0.8888888888888888,\"#fdca26\"],[1.0,\"#f0f921\"]]}],\"contourcarpet\":[{\"type\":\"contourcarpet\",\"colorbar\":{\"outlinewidth\":0,\"ticks\":\"\"}}],\"contour\":[{\"type\":\"contour\",\"colorbar\":{\"outlinewidth\":0,\"ticks\":\"\"},\"colorscale\":[[0.0,\"#0d0887\"],[0.1111111111111111,\"#46039f\"],[0.2222222222222222,\"#7201a8\"],[0.3333333333333333,\"#9c179e\"],[0.4444444444444444,\"#bd3786\"],[0.5555555555555556,\"#d8576b\"],[0.6666666666666666,\"#ed7953\"],[0.7777777777777778,\"#fb9f3a\"],[0.8888888888888888,\"#fdca26\"],[1.0,\"#f0f921\"]]}],\"surface\":[{\"type\":\"surface\",\"colorbar\":{\"outlinewidth\":0,\"ticks\":\"\"},\"colorscale\":[[0.0,\"#0d0887\"],[0.1111111111111111,\"#46039f\"],[0.2222222222222222,\"#7201a8\"],[0.3333333333333333,\"#9c179e\"],[0.4444444444444444,\"#bd3786\"],[0.5555555555555556,\"#d8576b\"],[0.6666666666666666,\"#ed7953\"],[0.7777777777777778,\"#fb9f3a\"],[0.8888888888888888,\"#fdca26\"],[1.0,\"#f0f921\"]]}],\"mesh3d\":[{\"type\":\"mesh3d\",\"colorbar\":{\"outlinewidth\":0,\"ticks\":\"\"}}],\"scatter\":[{\"fillpattern\":{\"fillmode\":\"overlay\",\"size\":10,\"solidity\":0.2},\"type\":\"scatter\"}],\"parcoords\":[{\"type\":\"parcoords\",\"line\":{\"colorbar\":{\"outlinewidth\":0,\"ticks\":\"\"}}}],\"scatterpolargl\":[{\"type\":\"scatterpolargl\",\"marker\":{\"colorbar\":{\"outlinewidth\":0,\"ticks\":\"\"}}}],\"bar\":[{\"error_x\":{\"color\":\"#2a3f5f\"},\"error_y\":{\"color\":\"#2a3f5f\"},\"marker\":{\"line\":{\"color\":\"#E5ECF6\",\"width\":0.5},\"pattern\":{\"fillmode\":\"overlay\",\"size\":10,\"solidity\":0.2}},\"type\":\"bar\"}],\"scattergeo\":[{\"type\":\"scattergeo\",\"marker\":{\"colorbar\":{\"outlinewidth\":0,\"ticks\":\"\"}}}],\"scatterpolar\":[{\"type\":\"scatterpolar\",\"marker\":{\"colorbar\":{\"outlinewidth\":0,\"ticks\":\"\"}}}],\"histogram\":[{\"marker\":{\"pattern\":{\"fillmode\":\"overlay\",\"size\":10,\"solidity\":0.2}},\"type\":\"histogram\"}],\"scattergl\":[{\"type\":\"scattergl\",\"marker\":{\"colorbar\":{\"outlinewidth\":0,\"ticks\":\"\"}}}],\"scatter3d\":[{\"type\":\"scatter3d\",\"line\":{\"colorbar\":{\"outlinewidth\":0,\"ticks\":\"\"}},\"marker\":{\"colorbar\":{\"outlinewidth\":0,\"ticks\":\"\"}}}],\"scattermapbox\":[{\"type\":\"scattermapbox\",\"marker\":{\"colorbar\":{\"outlinewidth\":0,\"ticks\":\"\"}}}],\"scatterternary\":[{\"type\":\"scatterternary\",\"marker\":{\"colorbar\":{\"outlinewidth\":0,\"ticks\":\"\"}}}],\"scattercarpet\":[{\"type\":\"scattercarpet\",\"marker\":{\"colorbar\":{\"outlinewidth\":0,\"ticks\":\"\"}}}],\"carpet\":[{\"aaxis\":{\"endlinecolor\":\"#2a3f5f\",\"gridcolor\":\"white\",\"linecolor\":\"white\",\"minorgridcolor\":\"white\",\"startlinecolor\":\"#2a3f5f\"},\"baxis\":{\"endlinecolor\":\"#2a3f5f\",\"gridcolor\":\"white\",\"linecolor\":\"white\",\"minorgridcolor\":\"white\",\"startlinecolor\":\"#2a3f5f\"},\"type\":\"carpet\"}],\"table\":[{\"cells\":{\"fill\":{\"color\":\"#EBF0F8\"},\"line\":{\"color\":\"white\"}},\"header\":{\"fill\":{\"color\":\"#C8D4E3\"},\"line\":{\"color\":\"white\"}},\"type\":\"table\"}],\"barpolar\":[{\"marker\":{\"line\":{\"color\":\"#E5ECF6\",\"width\":0.5},\"pattern\":{\"fillmode\":\"overlay\",\"size\":10,\"solidity\":0.2}},\"type\":\"barpolar\"}],\"pie\":[{\"automargin\":true,\"type\":\"pie\"}]},\"layout\":{\"autotypenumbers\":\"strict\",\"colorway\":[\"#636efa\",\"#EF553B\",\"#00cc96\",\"#ab63fa\",\"#FFA15A\",\"#19d3f3\",\"#FF6692\",\"#B6E880\",\"#FF97FF\",\"#FECB52\"],\"font\":{\"color\":\"#2a3f5f\"},\"hovermode\":\"closest\",\"hoverlabel\":{\"align\":\"left\"},\"paper_bgcolor\":\"white\",\"plot_bgcolor\":\"#E5ECF6\",\"polar\":{\"bgcolor\":\"#E5ECF6\",\"angularaxis\":{\"gridcolor\":\"white\",\"linecolor\":\"white\",\"ticks\":\"\"},\"radialaxis\":{\"gridcolor\":\"white\",\"linecolor\":\"white\",\"ticks\":\"\"}},\"ternary\":{\"bgcolor\":\"#E5ECF6\",\"aaxis\":{\"gridcolor\":\"white\",\"linecolor\":\"white\",\"ticks\":\"\"},\"baxis\":{\"gridcolor\":\"white\",\"linecolor\":\"white\",\"ticks\":\"\"},\"caxis\":{\"gridcolor\":\"white\",\"linecolor\":\"white\",\"ticks\":\"\"}},\"coloraxis\":{\"colorbar\":{\"outlinewidth\":0,\"ticks\":\"\"}},\"colorscale\":{\"sequential\":[[0.0,\"#0d0887\"],[0.1111111111111111,\"#46039f\"],[0.2222222222222222,\"#7201a8\"],[0.3333333333333333,\"#9c179e\"],[0.4444444444444444,\"#bd3786\"],[0.5555555555555556,\"#d8576b\"],[0.6666666666666666,\"#ed7953\"],[0.7777777777777778,\"#fb9f3a\"],[0.8888888888888888,\"#fdca26\"],[1.0,\"#f0f921\"]],\"sequentialminus\":[[0.0,\"#0d0887\"],[0.1111111111111111,\"#46039f\"],[0.2222222222222222,\"#7201a8\"],[0.3333333333333333,\"#9c179e\"],[0.4444444444444444,\"#bd3786\"],[0.5555555555555556,\"#d8576b\"],[0.6666666666666666,\"#ed7953\"],[0.7777777777777778,\"#fb9f3a\"],[0.8888888888888888,\"#fdca26\"],[1.0,\"#f0f921\"]],\"diverging\":[[0,\"#8e0152\"],[0.1,\"#c51b7d\"],[0.2,\"#de77ae\"],[0.3,\"#f1b6da\"],[0.4,\"#fde0ef\"],[0.5,\"#f7f7f7\"],[0.6,\"#e6f5d0\"],[0.7,\"#b8e186\"],[0.8,\"#7fbc41\"],[0.9,\"#4d9221\"],[1,\"#276419\"]]},\"xaxis\":{\"gridcolor\":\"white\",\"linecolor\":\"white\",\"ticks\":\"\",\"title\":{\"standoff\":15},\"zerolinecolor\":\"white\",\"automargin\":true,\"zerolinewidth\":2},\"yaxis\":{\"gridcolor\":\"white\",\"linecolor\":\"white\",\"ticks\":\"\",\"title\":{\"standoff\":15},\"zerolinecolor\":\"white\",\"automargin\":true,\"zerolinewidth\":2},\"scene\":{\"xaxis\":{\"backgroundcolor\":\"#E5ECF6\",\"gridcolor\":\"white\",\"linecolor\":\"white\",\"showbackground\":true,\"ticks\":\"\",\"zerolinecolor\":\"white\",\"gridwidth\":2},\"yaxis\":{\"backgroundcolor\":\"#E5ECF6\",\"gridcolor\":\"white\",\"linecolor\":\"white\",\"showbackground\":true,\"ticks\":\"\",\"zerolinecolor\":\"white\",\"gridwidth\":2},\"zaxis\":{\"backgroundcolor\":\"#E5ECF6\",\"gridcolor\":\"white\",\"linecolor\":\"white\",\"showbackground\":true,\"ticks\":\"\",\"zerolinecolor\":\"white\",\"gridwidth\":2}},\"shapedefaults\":{\"line\":{\"color\":\"#2a3f5f\"}},\"annotationdefaults\":{\"arrowcolor\":\"#2a3f5f\",\"arrowhead\":0,\"arrowwidth\":1},\"geo\":{\"bgcolor\":\"white\",\"landcolor\":\"#E5ECF6\",\"subunitcolor\":\"white\",\"showland\":true,\"showlakes\":true,\"lakecolor\":\"white\"},\"title\":{\"x\":0.05},\"mapbox\":{\"style\":\"light\"}}},\"xaxis\":{\"anchor\":\"y\",\"domain\":[0.0,1.0],\"title\":{\"text\":\"Percentage of missing values in 'step'\"}},\"yaxis\":{\"anchor\":\"x\",\"domain\":[0.0,0.8316],\"title\":{\"text\":\"Count of series\"}},\"xaxis2\":{\"anchor\":\"y2\",\"domain\":[0.0,1.0],\"matches\":\"x\",\"showticklabels\":false,\"showgrid\":true},\"yaxis2\":{\"anchor\":\"x2\",\"domain\":[0.8416,1.0],\"matches\":\"y2\",\"showticklabels\":false,\"showline\":false,\"ticks\":\"\",\"showgrid\":false},\"legend\":{\"tracegroupgap\":0},\"margin\":{\"t\":60},\"barmode\":\"relative\",\"title\":{\"text\":\"Distribution of missing values per series\"}},                        {\"responsive\": true}                    ).then(function(){\n",
       "                            \n",
       "var gd = document.getElementById('d872b1a9-e9cf-4ed4-8328-5638196dc563');\n",
       "var x = new MutationObserver(function (mutations, observer) {{\n",
       "        var display = window.getComputedStyle(gd).display;\n",
       "        if (!display || display === 'none') {{\n",
       "            console.log([gd, 'removed!']);\n",
       "            Plotly.purge(gd);\n",
       "            observer.disconnect();\n",
       "        }}\n",
       "}});\n",
       "\n",
       "// Listen for the removal of the full notebook cells\n",
       "var notebookContainer = gd.closest('#notebook-container');\n",
       "if (notebookContainer) {{\n",
       "    x.observe(notebookContainer, {childList: true});\n",
       "}}\n",
       "\n",
       "// Listen for the clearing of the current output cell\n",
       "var outputEl = gd.closest('.output');\n",
       "if (outputEl) {{\n",
       "    x.observe(outputEl, {childList: true});\n",
       "}}\n",
       "\n",
       "                        })                };                });            </script>        </div>"
      ]
     },
     "metadata": {},
     "output_type": "display_data"
    }
   ],
   "source": [
    "# Create a histogram using Plotly\n",
    "fig = px.histogram(\n",
    "    series_step_nas,\n",
    "    x='percentage_missing_step',\n",
    "    nbins=20,\n",
    "    color_discrete_sequence=['#05163a'],\n",
    "    marginal='box',\n",
    ")\n",
    "\n",
    "fig.update_layout(\n",
    "    title='Distribution of missing values per series',\n",
    "    xaxis=dict(title='Percentage of missing values in \\'step\\''),\n",
    "    yaxis=dict(title='Count of series'),\n",
    ")\n",
    "\n",
    "fig.update_traces(marker=dict(line=dict(width=2, color='Black')), opacity=0.7)\n",
    "\n",
    "# Save the plot as a standalone HTML file in the specified folder\n",
    "html_file_path = os.path.join(output_folder, \"histogram_plot1.html\")\n",
    "fig.write_html(html_file_path)\n",
    "\n",
    "# Display the plot in the notebook\n",
    "fig.show()"
   ]
  },
  {
   "cell_type": "markdown",
   "metadata": {},
   "source": [
    "Observations:\n",
    "- There are a total of 277 series.\n",
    "\n",
    "- Using `step` as a proxy for all missing values (considering the consistent pattern across the 6 columns), the distribution of missing values per series ranges from 0% (complete series) to 100% (all values missing).\n",
    "\n",
    "- Specifically, 37 series have no missing values, and 8 series have all missing values.\n",
    "\n",
    "- The remaining series fall within this range, with the median percentage of missing values at 20% (i.e., half of the series have up to 20% of the data missing)."
   ]
  },
  {
   "cell_type": "markdown",
   "metadata": {},
   "source": [
    "## Resampling data to 1-Minute intervals\n",
    "Dataset Characteristics\n",
    "- The accelerometer data is recorded at 5-second intervals, resulting in a large dataset with high temporal granularity.\n",
    "\n",
    "Evaluation Requirements\n",
    "- The evaluation metric requires predicting events with a precision of 1 minute.\n",
    "- The average precision is calculated over various timestamp error tolerance thresholds.\n",
    "\n",
    "Reduction of Memory Usage and Processing Complexity\n",
    "- The dataset, with recordings every 5 seconds, consumes a significant amount of memory and poses challenges in processing.\n",
    "- Resampling the data to 1-minute intervals allows for a substantial reduction in both memory usage and processing complexity.\n",
    "\n",
    "Focus on Relevant Information\n",
    "- The key sleep events (onset and wakeup) are expected to occur within relatively larger time intervals.\n",
    "- Taking the absolute maximum value occurring in a minute provides a representative summary of the entire range of values during that interval.\n",
    "\n",
    "Conclusion\n",
    "Resampling the data to 1-minute precision by taking the absolute maximum value aligns with the evaluation requirements, reduces memory usage and processing complexity, and focuses on relevant information for the detection of sleep events in the accelerometer series."
   ]
  },
  {
   "cell_type": "code",
   "execution_count": 67,
   "metadata": {},
   "outputs": [],
   "source": [
    "def aggregate_series(df, num_series=-1):\n",
    "    df_list = []\n",
    "    unique_series_id = df.series_id.unique()\n",
    "\n",
    "    if num_series == -1:\n",
    "        unique_series_id = df.series_id.unique()\n",
    "    else:\n",
    "        if 0 < num_series <= len(unique_series_id):\n",
    "            unique_series_id = df.series_id.unique()[:num_series]\n",
    "        else: \n",
    "            print(f'num_series must be less than or equal to {len(unique_series_id)}')\n",
    "            return None\n",
    "\n",
    "    total_series = len(unique_series_id)\n",
    "\n",
    "    times = []\n",
    "\n",
    "    for idx, series_id in enumerate(unique_series_id, 1):\n",
    "        series_data = df[df['series_id'] == series_id].set_index('timestamp')\n",
    "        start_time = time.time()\n",
    "        window = series_data.resample('1T').agg({\n",
    "            'anglez': lambda x: x.loc[x.abs().idxmax()] if not x.empty else np.nan,\n",
    "            'enmo': 'max'\n",
    "        })\n",
    "\n",
    "        window['series_id'] = series_id\n",
    "\n",
    "        df_list.append(window)\n",
    "\n",
    "        end_time = time.time()\n",
    "        elapsed_time = end_time - start_time\n",
    "        times.append(elapsed_time)\n",
    "        print(f\"Processing series_id: {series_id}. {idx}/{total_series} series completed. Time taken: {elapsed_time:.2f} seconds. Avg time: {np.mean(times):.2f} seconds. Expected total time: {np.mean(times)*total_series/60:.2f} minutes.\")\n",
    "    df_new = pd.concat(df_list)\n",
    "\n",
    "    df_new.reset_index(inplace=True)\n",
    "    return df_new\n",
    "\n",
    "def fix_arrays(df):\n",
    "    def first_element(cell):\n",
    "        if isinstance(cell, (list, np.ndarray)):\n",
    "            print('Array detected and replaced with first element.')\n",
    "            return cell[0]\n",
    "        else:\n",
    "            return cell\n",
    "    return df.applymap(first_element)\n",
    "\n",
    "def fix_nans(df):\n",
    "    number_of_nans = df.isna().sum()\n",
    "    df.dropna(inplace=True)\n",
    "    print(f'Dropped {number_of_nans} rows with NaNs.')\n",
    "    return df\n",
    "\n",
    "def to_parquet(df, path):\n",
    "    df.to_parquet(path)\n",
    "    print(f'Saved to {path}.')\n",
    "\n",
    "def main(df, save_path, num_series=-1):\n",
    "    # df = pd.read_parquet('../data/memory_optimised_data/train_series_mem_optimised.parquet')\n",
    "    df_ = df.copy()\n",
    "    df_ = aggregate_series(df_, num_series)\n",
    "    df_ = fix_arrays(df_)\n",
    "    df_ = fix_nans(df_)\n",
    "    to_parquet(df_, save_path)\n",
    "    return df_"
   ]
  },
  {
   "cell_type": "code",
   "execution_count": 68,
   "metadata": {},
   "outputs": [
    {
     "ename": "NameError",
     "evalue": "name 'time' is not defined",
     "output_type": "error",
     "traceback": [
      "\u001b[0;31m---------------------------------------------------------------------------\u001b[0m",
      "\u001b[0;31mNameError\u001b[0m                                 Traceback (most recent call last)",
      "Cell \u001b[0;32mIn[68], line 2\u001b[0m\n\u001b[1;32m      1\u001b[0m df \u001b[38;5;241m=\u001b[39m pd\u001b[38;5;241m.\u001b[39mread_parquet(path \u001b[38;5;241m+\u001b[39m \u001b[38;5;124m'\u001b[39m\u001b[38;5;124mmemory_optimised_data/train_series_mem_optimised.parquet\u001b[39m\u001b[38;5;124m'\u001b[39m)\n\u001b[0;32m----> 2\u001b[0m train_series \u001b[38;5;241m=\u001b[39m \u001b[43mmain\u001b[49m\u001b[43m(\u001b[49m\u001b[43mdf\u001b[49m\u001b[43m,\u001b[49m\u001b[43m \u001b[49m\u001b[43mpath\u001b[49m\u001b[43m \u001b[49m\u001b[38;5;241;43m+\u001b[39;49m\u001b[43m \u001b[49m\u001b[38;5;124;43m'\u001b[39;49m\u001b[38;5;124;43mmemory_optimised_data/train_series_aggregated.parquet\u001b[39;49m\u001b[38;5;124;43m'\u001b[39;49m\u001b[43m)\u001b[49m\n",
      "Cell \u001b[0;32mIn[67], line 61\u001b[0m, in \u001b[0;36mmain\u001b[0;34m(df, save_path, num_series)\u001b[0m\n\u001b[1;32m     58\u001b[0m \u001b[38;5;28;01mdef\u001b[39;00m \u001b[38;5;21mmain\u001b[39m(df, save_path, num_series\u001b[38;5;241m=\u001b[39m\u001b[38;5;241m-\u001b[39m\u001b[38;5;241m1\u001b[39m):\n\u001b[1;32m     59\u001b[0m     \u001b[38;5;66;03m# df = pd.read_parquet('../data/memory_optimized_data/train_series_mem_optimized.parquet')\u001b[39;00m\n\u001b[1;32m     60\u001b[0m     df_ \u001b[38;5;241m=\u001b[39m df\u001b[38;5;241m.\u001b[39mcopy()\n\u001b[0;32m---> 61\u001b[0m     df_ \u001b[38;5;241m=\u001b[39m \u001b[43maggregate_series\u001b[49m\u001b[43m(\u001b[49m\u001b[43mdf_\u001b[49m\u001b[43m,\u001b[49m\u001b[43m \u001b[49m\u001b[43mnum_series\u001b[49m\u001b[43m)\u001b[49m\n\u001b[1;32m     62\u001b[0m     df_ \u001b[38;5;241m=\u001b[39m fix_arrays(df_)\n\u001b[1;32m     63\u001b[0m     df_ \u001b[38;5;241m=\u001b[39m fix_nans(df_)\n",
      "Cell \u001b[0;32mIn[67], line 20\u001b[0m, in \u001b[0;36maggregate_series\u001b[0;34m(df, num_series)\u001b[0m\n\u001b[1;32m     18\u001b[0m \u001b[38;5;28;01mfor\u001b[39;00m idx, series_id \u001b[38;5;129;01min\u001b[39;00m \u001b[38;5;28menumerate\u001b[39m(unique_series_id, \u001b[38;5;241m1\u001b[39m):\n\u001b[1;32m     19\u001b[0m     series_data \u001b[38;5;241m=\u001b[39m df[df[\u001b[38;5;124m'\u001b[39m\u001b[38;5;124mseries_id\u001b[39m\u001b[38;5;124m'\u001b[39m] \u001b[38;5;241m==\u001b[39m series_id]\u001b[38;5;241m.\u001b[39mset_index(\u001b[38;5;124m'\u001b[39m\u001b[38;5;124mtimestamp\u001b[39m\u001b[38;5;124m'\u001b[39m)\n\u001b[0;32m---> 20\u001b[0m     start_time \u001b[38;5;241m=\u001b[39m \u001b[43mtime\u001b[49m\u001b[38;5;241m.\u001b[39mtime()\n\u001b[1;32m     21\u001b[0m     window \u001b[38;5;241m=\u001b[39m series_data\u001b[38;5;241m.\u001b[39mresample(\u001b[38;5;124m'\u001b[39m\u001b[38;5;124m1T\u001b[39m\u001b[38;5;124m'\u001b[39m)\u001b[38;5;241m.\u001b[39magg({\n\u001b[1;32m     22\u001b[0m         \u001b[38;5;124m'\u001b[39m\u001b[38;5;124manglez\u001b[39m\u001b[38;5;124m'\u001b[39m: \u001b[38;5;28;01mlambda\u001b[39;00m x: x\u001b[38;5;241m.\u001b[39mloc[x\u001b[38;5;241m.\u001b[39mabs()\u001b[38;5;241m.\u001b[39midxmax()] \u001b[38;5;28;01mif\u001b[39;00m \u001b[38;5;129;01mnot\u001b[39;00m x\u001b[38;5;241m.\u001b[39mempty \u001b[38;5;28;01melse\u001b[39;00m np\u001b[38;5;241m.\u001b[39mnan,\n\u001b[1;32m     23\u001b[0m         \u001b[38;5;124m'\u001b[39m\u001b[38;5;124menmo\u001b[39m\u001b[38;5;124m'\u001b[39m: \u001b[38;5;124m'\u001b[39m\u001b[38;5;124mmax\u001b[39m\u001b[38;5;124m'\u001b[39m\n\u001b[1;32m     24\u001b[0m     })\n\u001b[1;32m     26\u001b[0m     window[\u001b[38;5;124m'\u001b[39m\u001b[38;5;124mseries_id\u001b[39m\u001b[38;5;124m'\u001b[39m] \u001b[38;5;241m=\u001b[39m series_id\n",
      "\u001b[0;31mNameError\u001b[0m: name 'time' is not defined"
     ]
    }
   ],
   "source": [
    "df = pd.read_parquet(path + 'memory_optimised_data/train_series_mem_optimised.parquet')\n",
    "train_series = main(df, path + 'memory_optimised_data/train_series_aggregated.parquet')"
   ]
  },
  {
   "cell_type": "code",
   "execution_count": null,
   "metadata": {},
   "outputs": [],
   "source": [
    "# export sleep dataframe as parquet file\n",
    "# sleep.to_csv(path + 'memory_optimised_data/sleep_mem_optimised.csv', index=False)"
   ]
  },
  {
   "cell_type": "code",
   "execution_count": null,
   "metadata": {},
   "outputs": [],
   "source": []
  }
 ],
 "metadata": {
  "kernelspec": {
   "display_name": "Python (Local)",
   "language": "python",
   "name": "local-base"
  },
  "language_info": {
   "codemirror_mode": {
    "name": "ipython",
    "version": 3
   },
   "file_extension": ".py",
   "mimetype": "text/x-python",
   "name": "python",
   "nbconvert_exporter": "python",
   "pygments_lexer": "ipython3",
   "version": "3.10.12"
  }
 },
 "nbformat": 4,
 "nbformat_minor": 4
}
